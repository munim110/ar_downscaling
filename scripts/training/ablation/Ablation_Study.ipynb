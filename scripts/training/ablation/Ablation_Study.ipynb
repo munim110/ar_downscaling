{
  "nbformat": 4,
  "nbformat_minor": 0,
  "metadata": {
    "colab": {
      "provenance": [],
      "machine_shape": "hm",
      "gpuType": "L4"
    },
    "kernelspec": {
      "name": "python3",
      "display_name": "Python 3"
    },
    "language_info": {
      "name": "python"
    },
    "accelerator": "GPU"
  },
  "cells": [
    {
      "cell_type": "code",
      "execution_count": null,
      "metadata": {
        "colab": {
          "base_uri": "https://localhost:8080/"
        },
        "id": "cSAidQPSOd8J",
        "outputId": "1df0f645-1823-4f5d-e136-5a74a5d9255b"
      },
      "outputs": [
        {
          "metadata": {
            "tags": null
          },
          "name": "stdout",
          "output_type": "stream",
          "text": [
            "\n",
            "================================================================================\n",
            "🔬 STARTING ABLATION RUN: single_IVT\n",
            "   Variables (1): IVT\n",
            "================================================================================\n"
          ]
        },
        {
          "metadata": {
            "tags": null
          },
          "name": "stderr",
          "output_type": "stream",
          "text": [
            "Epoch 1/25 [Train]: 100%|██████████| 150/150 [00:49<00:00,  3.02it/s, loss=0.7096]\n"
          ]
        },
        {
          "metadata": {
            "tags": null
          },
          "name": "stdout",
          "output_type": "stream",
          "text": [
            "Epoch 1 | Val Loss: 0.710103\n",
            "   ✅ Best model saved to /content/drive/My Drive/AR_Downscaling/ablation_study_models/ablation_single_IVT.pt\n"
          ]
        },
        {
          "metadata": {
            "tags": null
          },
          "name": "stderr",
          "output_type": "stream",
          "text": [
            "Epoch 2/25 [Train]: 100%|██████████| 150/150 [00:33<00:00,  4.44it/s, loss=0.5540]\n"
          ]
        },
        {
          "metadata": {
            "tags": null
          },
          "name": "stdout",
          "output_type": "stream",
          "text": [
            "Epoch 2 | Val Loss: 0.697578\n",
            "   ✅ Best model saved to /content/drive/My Drive/AR_Downscaling/ablation_study_models/ablation_single_IVT.pt\n"
          ]
        },
        {
          "metadata": {
            "tags": null
          },
          "name": "stderr",
          "output_type": "stream",
          "text": [
            "Epoch 3/25 [Train]: 100%|██████████| 150/150 [00:33<00:00,  4.48it/s, loss=0.7690]\n"
          ]
        },
        {
          "metadata": {
            "tags": null
          },
          "name": "stdout",
          "output_type": "stream",
          "text": [
            "Epoch 3 | Val Loss: 0.685988\n",
            "   ✅ Best model saved to /content/drive/My Drive/AR_Downscaling/ablation_study_models/ablation_single_IVT.pt\n"
          ]
        },
        {
          "metadata": {
            "tags": null
          },
          "name": "stderr",
          "output_type": "stream",
          "text": [
            "Epoch 4/25 [Train]: 100%|██████████| 150/150 [00:33<00:00,  4.42it/s, loss=0.5994]\n"
          ]
        },
        {
          "metadata": {
            "tags": null
          },
          "name": "stdout",
          "output_type": "stream",
          "text": [
            "Epoch 4 | Val Loss: 0.683127\n",
            "   ✅ Best model saved to /content/drive/My Drive/AR_Downscaling/ablation_study_models/ablation_single_IVT.pt\n"
          ]
        },
        {
          "metadata": {
            "tags": null
          },
          "name": "stderr",
          "output_type": "stream",
          "text": [
            "Epoch 5/25 [Train]: 100%|██████████| 150/150 [00:33<00:00,  4.45it/s, loss=0.7380]\n"
          ]
        },
        {
          "metadata": {
            "tags": null
          },
          "name": "stdout",
          "output_type": "stream",
          "text": [
            "Epoch 5 | Val Loss: 0.798299\n"
          ]
        },
        {
          "metadata": {
            "tags": null
          },
          "name": "stderr",
          "output_type": "stream",
          "text": [
            "Epoch 6/25 [Train]: 100%|██████████| 150/150 [00:32<00:00,  4.56it/s, loss=0.6967]\n"
          ]
        },
        {
          "metadata": {
            "tags": null
          },
          "name": "stdout",
          "output_type": "stream",
          "text": [
            "Epoch 6 | Val Loss: 0.709325\n"
          ]
        },
        {
          "metadata": {
            "tags": null
          },
          "name": "stderr",
          "output_type": "stream",
          "text": [
            "Epoch 7/25 [Train]: 100%|██████████| 150/150 [00:32<00:00,  4.60it/s, loss=0.6450]\n"
          ]
        },
        {
          "metadata": {
            "tags": null
          },
          "name": "stdout",
          "output_type": "stream",
          "text": [
            "Epoch 7 | Val Loss: 0.714092\n"
          ]
        },
        {
          "metadata": {
            "tags": null
          },
          "name": "stderr",
          "output_type": "stream",
          "text": [
            "Epoch 8/25 [Train]: 100%|██████████| 150/150 [00:32<00:00,  4.64it/s, loss=1.0187]\n"
          ]
        },
        {
          "metadata": {
            "tags": null
          },
          "name": "stdout",
          "output_type": "stream",
          "text": [
            "Epoch 8 | Val Loss: 0.718896\n"
          ]
        },
        {
          "metadata": {
            "tags": null
          },
          "name": "stderr",
          "output_type": "stream",
          "text": [
            "Epoch 9/25 [Train]: 100%|██████████| 150/150 [00:32<00:00,  4.68it/s, loss=0.6853]\n"
          ]
        },
        {
          "metadata": {
            "tags": null
          },
          "name": "stdout",
          "output_type": "stream",
          "text": [
            "Epoch 9 | Val Loss: 0.673902\n",
            "   ✅ Best model saved to /content/drive/My Drive/AR_Downscaling/ablation_study_models/ablation_single_IVT.pt\n"
          ]
        },
        {
          "metadata": {
            "tags": null
          },
          "name": "stderr",
          "output_type": "stream",
          "text": [
            "Epoch 10/25 [Train]: 100%|██████████| 150/150 [00:32<00:00,  4.58it/s, loss=0.5529]\n"
          ]
        },
        {
          "metadata": {
            "tags": null
          },
          "name": "stdout",
          "output_type": "stream",
          "text": [
            "Epoch 10 | Val Loss: 1.153316\n"
          ]
        },
        {
          "metadata": {
            "tags": null
          },
          "name": "stderr",
          "output_type": "stream",
          "text": [
            "Epoch 11/25 [Train]: 100%|██████████| 150/150 [00:31<00:00,  4.74it/s, loss=0.6762]\n"
          ]
        },
        {
          "metadata": {
            "tags": null
          },
          "name": "stdout",
          "output_type": "stream",
          "text": [
            "Epoch 11 | Val Loss: 1.613254\n"
          ]
        },
        {
          "metadata": {
            "tags": null
          },
          "name": "stderr",
          "output_type": "stream",
          "text": [
            "Epoch 12/25 [Train]: 100%|██████████| 150/150 [00:31<00:00,  4.73it/s, loss=0.6383]\n"
          ]
        },
        {
          "metadata": {
            "tags": null
          },
          "name": "stdout",
          "output_type": "stream",
          "text": [
            "Epoch 12 | Val Loss: 0.689770\n"
          ]
        },
        {
          "metadata": {
            "tags": null
          },
          "name": "stderr",
          "output_type": "stream",
          "text": [
            "Epoch 13/25 [Train]: 100%|██████████| 150/150 [00:31<00:00,  4.74it/s, loss=0.8160]\n"
          ]
        },
        {
          "metadata": {
            "tags": null
          },
          "name": "stdout",
          "output_type": "stream",
          "text": [
            "Epoch 13 | Val Loss: 0.691979\n"
          ]
        },
        {
          "metadata": {
            "tags": null
          },
          "name": "stderr",
          "output_type": "stream",
          "text": [
            "Epoch 14/25 [Train]: 100%|██████████| 150/150 [00:31<00:00,  4.74it/s, loss=0.8393]\n"
          ]
        },
        {
          "metadata": {
            "tags": null
          },
          "name": "stdout",
          "output_type": "stream",
          "text": [
            "Epoch 14 | Val Loss: 0.690672\n"
          ]
        },
        {
          "metadata": {
            "tags": null
          },
          "name": "stderr",
          "output_type": "stream",
          "text": [
            "Epoch 15/25 [Train]: 100%|██████████| 150/150 [00:31<00:00,  4.73it/s, loss=0.8307]\n"
          ]
        },
        {
          "metadata": {
            "tags": null
          },
          "name": "stdout",
          "output_type": "stream",
          "text": [
            "Epoch 15 | Val Loss: 0.682033\n"
          ]
        },
        {
          "metadata": {
            "tags": null
          },
          "name": "stderr",
          "output_type": "stream",
          "text": [
            "Epoch 16/25 [Train]: 100%|██████████| 150/150 [00:31<00:00,  4.73it/s, loss=0.4907]\n"
          ]
        },
        {
          "metadata": {
            "tags": null
          },
          "name": "stdout",
          "output_type": "stream",
          "text": [
            "Epoch 16 | Val Loss: 0.687442\n",
            "   🛑 Early stopping triggered.\n",
            "🔬 FINISHED ABLATION RUN: single_IVT | Best Val Loss: 0.673902\n",
            "\n",
            "================================================================================\n",
            "🔬 STARTING ABLATION RUN: single_T500\n",
            "   Variables (1): T500\n",
            "================================================================================\n"
          ]
        },
        {
          "metadata": {
            "tags": null
          },
          "name": "stderr",
          "output_type": "stream",
          "text": [
            "Epoch 1/25 [Train]: 100%|██████████| 150/150 [00:48<00:00,  3.06it/s, loss=0.7448]\n"
          ]
        },
        {
          "metadata": {
            "tags": null
          },
          "name": "stdout",
          "output_type": "stream",
          "text": [
            "Epoch 1 | Val Loss: 0.821180\n",
            "   ✅ Best model saved to /content/drive/My Drive/AR_Downscaling/ablation_study_models/ablation_single_T500.pt\n"
          ]
        },
        {
          "metadata": {
            "tags": null
          },
          "name": "stderr",
          "output_type": "stream",
          "text": [
            "Epoch 2/25 [Train]: 100%|██████████| 150/150 [00:31<00:00,  4.70it/s, loss=2.3314]\n"
          ]
        },
        {
          "metadata": {
            "tags": null
          },
          "name": "stdout",
          "output_type": "stream",
          "text": [
            "Epoch 2 | Val Loss: 19.245550\n"
          ]
        },
        {
          "metadata": {
            "tags": null
          },
          "name": "stderr",
          "output_type": "stream",
          "text": [
            "Epoch 3/25 [Train]: 100%|██████████| 150/150 [00:31<00:00,  4.75it/s, loss=2.5221]\n"
          ]
        },
        {
          "metadata": {
            "tags": null
          },
          "name": "stdout",
          "output_type": "stream",
          "text": [
            "Epoch 3 | Val Loss: 2.034605\n"
          ]
        },
        {
          "metadata": {
            "tags": null
          },
          "name": "stderr",
          "output_type": "stream",
          "text": [
            "Epoch 4/25 [Train]: 100%|██████████| 150/150 [00:31<00:00,  4.75it/s, loss=3.2485]\n"
          ]
        },
        {
          "metadata": {
            "tags": null
          },
          "name": "stdout",
          "output_type": "stream",
          "text": [
            "Epoch 4 | Val Loss: 9.741885\n"
          ]
        },
        {
          "metadata": {
            "tags": null
          },
          "name": "stderr",
          "output_type": "stream",
          "text": [
            "Epoch 5/25 [Train]: 100%|██████████| 150/150 [00:31<00:00,  4.77it/s, loss=3.1197]\n"
          ]
        },
        {
          "metadata": {
            "tags": null
          },
          "name": "stdout",
          "output_type": "stream",
          "text": [
            "Epoch 5 | Val Loss: 12.636429\n"
          ]
        },
        {
          "metadata": {
            "tags": null
          },
          "name": "stderr",
          "output_type": "stream",
          "text": [
            "Epoch 6/25 [Train]: 100%|██████████| 150/150 [00:31<00:00,  4.78it/s, loss=2.7920]\n"
          ]
        },
        {
          "metadata": {
            "tags": null
          },
          "name": "stdout",
          "output_type": "stream",
          "text": [
            "Epoch 6 | Val Loss: 11.607461\n"
          ]
        },
        {
          "metadata": {
            "tags": null
          },
          "name": "stderr",
          "output_type": "stream",
          "text": [
            "Epoch 7/25 [Train]: 100%|██████████| 150/150 [00:31<00:00,  4.78it/s, loss=4.0227]\n"
          ]
        },
        {
          "metadata": {
            "tags": null
          },
          "name": "stdout",
          "output_type": "stream",
          "text": [
            "Epoch 7 | Val Loss: 20.019143\n"
          ]
        },
        {
          "metadata": {
            "tags": null
          },
          "name": "stderr",
          "output_type": "stream",
          "text": [
            "Epoch 8/25 [Train]: 100%|██████████| 150/150 [00:31<00:00,  4.77it/s, loss=5.1341]\n"
          ]
        },
        {
          "metadata": {
            "tags": null
          },
          "name": "stdout",
          "output_type": "stream",
          "text": [
            "Epoch 8 | Val Loss: 14.440988\n",
            "   🛑 Early stopping triggered.\n",
            "🔬 FINISHED ABLATION RUN: single_T500 | Best Val Loss: 0.821180\n",
            "\n",
            "================================================================================\n",
            "🔬 STARTING ABLATION RUN: single_T850\n",
            "   Variables (1): T850\n",
            "================================================================================\n"
          ]
        },
        {
          "metadata": {
            "tags": null
          },
          "name": "stderr",
          "output_type": "stream",
          "text": [
            "Epoch 1/25 [Train]: 100%|██████████| 150/150 [00:49<00:00,  3.04it/s, loss=0.7433]\n"
          ]
        },
        {
          "metadata": {
            "tags": null
          },
          "name": "stdout",
          "output_type": "stream",
          "text": [
            "Epoch 1 | Val Loss: 0.782613\n",
            "   ✅ Best model saved to /content/drive/My Drive/AR_Downscaling/ablation_study_models/ablation_single_T850.pt\n"
          ]
        },
        {
          "metadata": {
            "tags": null
          },
          "name": "stderr",
          "output_type": "stream",
          "text": [
            "Epoch 2/25 [Train]: 100%|██████████| 150/150 [00:31<00:00,  4.70it/s, loss=1.1074]\n"
          ]
        },
        {
          "metadata": {
            "tags": null
          },
          "name": "stdout",
          "output_type": "stream",
          "text": [
            "Epoch 2 | Val Loss: 17.381653\n"
          ]
        },
        {
          "metadata": {
            "tags": null
          },
          "name": "stderr",
          "output_type": "stream",
          "text": [
            "Epoch 3/25 [Train]: 100%|██████████| 150/150 [00:31<00:00,  4.75it/s, loss=2.1369]\n"
          ]
        },
        {
          "metadata": {
            "tags": null
          },
          "name": "stdout",
          "output_type": "stream",
          "text": [
            "Epoch 3 | Val Loss: 20.566318\n"
          ]
        },
        {
          "metadata": {
            "tags": null
          },
          "name": "stderr",
          "output_type": "stream",
          "text": [
            "Epoch 4/25 [Train]: 100%|██████████| 150/150 [00:31<00:00,  4.74it/s, loss=3.1377]\n"
          ]
        },
        {
          "metadata": {
            "tags": null
          },
          "name": "stdout",
          "output_type": "stream",
          "text": [
            "Epoch 4 | Val Loss: 5.739299\n"
          ]
        },
        {
          "metadata": {
            "tags": null
          },
          "name": "stderr",
          "output_type": "stream",
          "text": [
            "Epoch 5/25 [Train]: 100%|██████████| 150/150 [00:31<00:00,  4.76it/s, loss=2.3106]\n"
          ]
        },
        {
          "metadata": {
            "tags": null
          },
          "name": "stdout",
          "output_type": "stream",
          "text": [
            "Epoch 5 | Val Loss: 3.532061\n"
          ]
        },
        {
          "metadata": {
            "tags": null
          },
          "name": "stderr",
          "output_type": "stream",
          "text": [
            "Epoch 6/25 [Train]: 100%|██████████| 150/150 [00:31<00:00,  4.76it/s, loss=3.3577]\n"
          ]
        },
        {
          "metadata": {
            "tags": null
          },
          "name": "stdout",
          "output_type": "stream",
          "text": [
            "Epoch 6 | Val Loss: 5.234361\n"
          ]
        },
        {
          "metadata": {
            "tags": null
          },
          "name": "stderr",
          "output_type": "stream",
          "text": [
            "Epoch 7/25 [Train]: 100%|██████████| 150/150 [00:31<00:00,  4.76it/s, loss=2.1119]\n"
          ]
        },
        {
          "metadata": {
            "tags": null
          },
          "name": "stdout",
          "output_type": "stream",
          "text": [
            "Epoch 7 | Val Loss: 4.927393\n"
          ]
        },
        {
          "metadata": {
            "tags": null
          },
          "name": "stderr",
          "output_type": "stream",
          "text": [
            "Epoch 8/25 [Train]: 100%|██████████| 150/150 [00:31<00:00,  4.76it/s, loss=2.6561]\n"
          ]
        },
        {
          "metadata": {
            "tags": null
          },
          "name": "stdout",
          "output_type": "stream",
          "text": [
            "Epoch 8 | Val Loss: 5.205822\n",
            "   🛑 Early stopping triggered.\n",
            "🔬 FINISHED ABLATION RUN: single_T850 | Best Val Loss: 0.782613\n",
            "\n",
            "================================================================================\n",
            "🔬 STARTING ABLATION RUN: single_RH700\n",
            "   Variables (1): RH700\n",
            "================================================================================\n"
          ]
        },
        {
          "metadata": {
            "tags": null
          },
          "name": "stderr",
          "output_type": "stream",
          "text": [
            "Epoch 1/25 [Train]: 100%|██████████| 150/150 [00:49<00:00,  3.03it/s, loss=0.5124]\n"
          ]
        },
        {
          "metadata": {
            "tags": null
          },
          "name": "stdout",
          "output_type": "stream",
          "text": [
            "Epoch 1 | Val Loss: 0.702754\n",
            "   ✅ Best model saved to /content/drive/My Drive/AR_Downscaling/ablation_study_models/ablation_single_RH700.pt\n"
          ]
        },
        {
          "metadata": {
            "tags": null
          },
          "name": "stderr",
          "output_type": "stream",
          "text": [
            "Epoch 2/25 [Train]: 100%|██████████| 150/150 [00:31<00:00,  4.71it/s, loss=1.5070]\n"
          ]
        },
        {
          "metadata": {
            "tags": null
          },
          "name": "stdout",
          "output_type": "stream",
          "text": [
            "Epoch 2 | Val Loss: 6.304401\n"
          ]
        },
        {
          "metadata": {
            "tags": null
          },
          "name": "stderr",
          "output_type": "stream",
          "text": [
            "Epoch 3/25 [Train]: 100%|██████████| 150/150 [00:31<00:00,  4.75it/s, loss=1.9986]\n"
          ]
        },
        {
          "metadata": {
            "tags": null
          },
          "name": "stdout",
          "output_type": "stream",
          "text": [
            "Epoch 3 | Val Loss: 248.524984\n"
          ]
        },
        {
          "metadata": {
            "tags": null
          },
          "name": "stderr",
          "output_type": "stream",
          "text": [
            "Epoch 4/25 [Train]: 100%|██████████| 150/150 [00:31<00:00,  4.76it/s, loss=2.0409]\n"
          ]
        },
        {
          "metadata": {
            "tags": null
          },
          "name": "stdout",
          "output_type": "stream",
          "text": [
            "Epoch 4 | Val Loss: 3.999715\n"
          ]
        },
        {
          "metadata": {
            "tags": null
          },
          "name": "stderr",
          "output_type": "stream",
          "text": [
            "Epoch 5/25 [Train]: 100%|██████████| 150/150 [00:31<00:00,  4.76it/s, loss=1.9011]\n"
          ]
        },
        {
          "metadata": {
            "tags": null
          },
          "name": "stdout",
          "output_type": "stream",
          "text": [
            "Epoch 5 | Val Loss: 5.067943\n"
          ]
        },
        {
          "metadata": {
            "tags": null
          },
          "name": "stderr",
          "output_type": "stream",
          "text": [
            "Epoch 6/25 [Train]: 100%|██████████| 150/150 [00:31<00:00,  4.76it/s, loss=2.4132]\n"
          ]
        },
        {
          "metadata": {
            "tags": null
          },
          "name": "stdout",
          "output_type": "stream",
          "text": [
            "Epoch 6 | Val Loss: 3.375730\n"
          ]
        },
        {
          "metadata": {
            "tags": null
          },
          "name": "stderr",
          "output_type": "stream",
          "text": [
            "Epoch 7/25 [Train]: 100%|██████████| 150/150 [00:31<00:00,  4.75it/s, loss=2.2272]\n"
          ]
        },
        {
          "metadata": {
            "tags": null
          },
          "name": "stdout",
          "output_type": "stream",
          "text": [
            "Epoch 7 | Val Loss: 3.440747\n"
          ]
        },
        {
          "metadata": {
            "tags": null
          },
          "name": "stderr",
          "output_type": "stream",
          "text": [
            "Epoch 8/25 [Train]: 100%|██████████| 150/150 [00:31<00:00,  4.76it/s, loss=1.7030]\n"
          ]
        },
        {
          "metadata": {
            "tags": null
          },
          "name": "stdout",
          "output_type": "stream",
          "text": [
            "Epoch 8 | Val Loss: 2.660444\n",
            "   🛑 Early stopping triggered.\n",
            "🔬 FINISHED ABLATION RUN: single_RH700 | Best Val Loss: 0.702754\n",
            "\n",
            "================================================================================\n",
            "🔬 STARTING ABLATION RUN: single_W500\n",
            "   Variables (1): W500\n",
            "================================================================================\n"
          ]
        },
        {
          "metadata": {
            "tags": null
          },
          "name": "stderr",
          "output_type": "stream",
          "text": [
            "Epoch 1/25 [Train]: 100%|██████████| 150/150 [00:49<00:00,  3.00it/s, loss=0.7153]\n"
          ]
        },
        {
          "metadata": {
            "tags": null
          },
          "name": "stdout",
          "output_type": "stream",
          "text": [
            "Epoch 1 | Val Loss: 0.784482\n",
            "   ✅ Best model saved to /content/drive/My Drive/AR_Downscaling/ablation_study_models/ablation_single_W500.pt\n"
          ]
        },
        {
          "metadata": {
            "tags": null
          },
          "name": "stderr",
          "output_type": "stream",
          "text": [
            "Epoch 2/25 [Train]: 100%|██████████| 150/150 [00:33<00:00,  4.54it/s, loss=0.8083]\n"
          ]
        },
        {
          "metadata": {
            "tags": null
          },
          "name": "stdout",
          "output_type": "stream",
          "text": [
            "Epoch 2 | Val Loss: 0.762139\n",
            "   ✅ Best model saved to /content/drive/My Drive/AR_Downscaling/ablation_study_models/ablation_single_W500.pt\n"
          ]
        },
        {
          "metadata": {
            "tags": null
          },
          "name": "stderr",
          "output_type": "stream",
          "text": [
            "Epoch 3/25 [Train]: 100%|██████████| 150/150 [00:33<00:00,  4.45it/s, loss=1.0019]\n"
          ]
        },
        {
          "metadata": {
            "tags": null
          },
          "name": "stdout",
          "output_type": "stream",
          "text": [
            "Epoch 3 | Val Loss: 0.725087\n",
            "   ✅ Best model saved to /content/drive/My Drive/AR_Downscaling/ablation_study_models/ablation_single_W500.pt\n"
          ]
        },
        {
          "metadata": {
            "tags": null
          },
          "name": "stderr",
          "output_type": "stream",
          "text": [
            "Epoch 4/25 [Train]: 100%|██████████| 150/150 [00:34<00:00,  4.40it/s, loss=0.6977]\n"
          ]
        },
        {
          "metadata": {
            "tags": null
          },
          "name": "stdout",
          "output_type": "stream",
          "text": [
            "Epoch 4 | Val Loss: 0.737175\n"
          ]
        },
        {
          "metadata": {
            "tags": null
          },
          "name": "stderr",
          "output_type": "stream",
          "text": [
            "Epoch 5/25 [Train]: 100%|██████████| 150/150 [00:33<00:00,  4.54it/s, loss=0.6285]\n"
          ]
        },
        {
          "metadata": {
            "tags": null
          },
          "name": "stdout",
          "output_type": "stream",
          "text": [
            "Epoch 5 | Val Loss: 0.788077\n"
          ]
        },
        {
          "metadata": {
            "tags": null
          },
          "name": "stderr",
          "output_type": "stream",
          "text": [
            "Epoch 6/25 [Train]: 100%|██████████| 150/150 [00:32<00:00,  4.55it/s, loss=0.6645]\n"
          ]
        },
        {
          "metadata": {
            "tags": null
          },
          "name": "stdout",
          "output_type": "stream",
          "text": [
            "Epoch 6 | Val Loss: 0.743097\n"
          ]
        },
        {
          "metadata": {
            "tags": null
          },
          "name": "stderr",
          "output_type": "stream",
          "text": [
            "Epoch 7/25 [Train]: 100%|██████████| 150/150 [00:32<00:00,  4.55it/s, loss=0.9149]\n"
          ]
        },
        {
          "metadata": {
            "tags": null
          },
          "name": "stdout",
          "output_type": "stream",
          "text": [
            "Epoch 7 | Val Loss: 0.653913\n",
            "   ✅ Best model saved to /content/drive/My Drive/AR_Downscaling/ablation_study_models/ablation_single_W500.pt\n"
          ]
        },
        {
          "metadata": {
            "tags": null
          },
          "name": "stderr",
          "output_type": "stream",
          "text": [
            "Epoch 8/25 [Train]: 100%|██████████| 150/150 [00:33<00:00,  4.42it/s, loss=0.6052]\n"
          ]
        },
        {
          "metadata": {
            "tags": null
          },
          "name": "stdout",
          "output_type": "stream",
          "text": [
            "Epoch 8 | Val Loss: 0.623570\n",
            "   ✅ Best model saved to /content/drive/My Drive/AR_Downscaling/ablation_study_models/ablation_single_W500.pt\n"
          ]
        },
        {
          "metadata": {
            "tags": null
          },
          "name": "stderr",
          "output_type": "stream",
          "text": [
            "Epoch 9/25 [Train]: 100%|██████████| 150/150 [00:33<00:00,  4.50it/s, loss=0.7404]\n"
          ]
        },
        {
          "metadata": {
            "tags": null
          },
          "name": "stdout",
          "output_type": "stream",
          "text": [
            "Epoch 9 | Val Loss: 0.673904\n"
          ]
        },
        {
          "metadata": {
            "tags": null
          },
          "name": "stderr",
          "output_type": "stream",
          "text": [
            "Epoch 10/25 [Train]: 100%|██████████| 150/150 [00:32<00:00,  4.62it/s, loss=0.5455]\n"
          ]
        },
        {
          "metadata": {
            "tags": null
          },
          "name": "stdout",
          "output_type": "stream",
          "text": [
            "Epoch 10 | Val Loss: 0.688375\n"
          ]
        },
        {
          "metadata": {
            "tags": null
          },
          "name": "stderr",
          "output_type": "stream",
          "text": [
            "Epoch 11/25 [Train]: 100%|██████████| 150/150 [00:32<00:00,  4.62it/s, loss=0.8890]\n"
          ]
        },
        {
          "metadata": {
            "tags": null
          },
          "name": "stdout",
          "output_type": "stream",
          "text": [
            "Epoch 11 | Val Loss: 0.634550\n"
          ]
        },
        {
          "metadata": {
            "tags": null
          },
          "name": "stderr",
          "output_type": "stream",
          "text": [
            "Epoch 12/25 [Train]: 100%|██████████| 150/150 [00:32<00:00,  4.62it/s, loss=0.6401]\n"
          ]
        },
        {
          "metadata": {
            "tags": null
          },
          "name": "stdout",
          "output_type": "stream",
          "text": [
            "Epoch 12 | Val Loss: 0.637561\n"
          ]
        },
        {
          "metadata": {
            "tags": null
          },
          "name": "stderr",
          "output_type": "stream",
          "text": [
            "Epoch 13/25 [Train]: 100%|██████████| 150/150 [00:32<00:00,  4.62it/s, loss=0.6945]\n"
          ]
        },
        {
          "metadata": {
            "tags": null
          },
          "name": "stdout",
          "output_type": "stream",
          "text": [
            "Epoch 13 | Val Loss: 0.703280\n"
          ]
        },
        {
          "metadata": {
            "tags": null
          },
          "name": "stderr",
          "output_type": "stream",
          "text": [
            "Epoch 14/25 [Train]: 100%|██████████| 150/150 [00:32<00:00,  4.62it/s, loss=0.8158]\n"
          ]
        },
        {
          "metadata": {
            "tags": null
          },
          "name": "stdout",
          "output_type": "stream",
          "text": [
            "Epoch 14 | Val Loss: 0.637165\n"
          ]
        },
        {
          "metadata": {
            "tags": null
          },
          "name": "stderr",
          "output_type": "stream",
          "text": [
            "Epoch 15/25 [Train]: 100%|██████████| 150/150 [00:32<00:00,  4.61it/s, loss=0.6922]\n"
          ]
        },
        {
          "metadata": {
            "tags": null
          },
          "name": "stdout",
          "output_type": "stream",
          "text": [
            "Epoch 15 | Val Loss: 0.714478\n",
            "   🛑 Early stopping triggered.\n",
            "🔬 FINISHED ABLATION RUN: single_W500 | Best Val Loss: 0.623570\n",
            "\n",
            "================================================================================\n",
            "🔬 STARTING ABLATION RUN: pair_IVT_T500\n",
            "   Variables (2): IVT, T500\n",
            "================================================================================\n"
          ]
        },
        {
          "metadata": {
            "tags": null
          },
          "name": "stderr",
          "output_type": "stream",
          "text": [
            "Epoch 1/25 [Train]: 100%|██████████| 150/150 [00:50<00:00,  2.94it/s, loss=0.6197]\n"
          ]
        },
        {
          "metadata": {
            "tags": null
          },
          "name": "stdout",
          "output_type": "stream",
          "text": [
            "Epoch 1 | Val Loss: 0.660718\n",
            "   ✅ Best model saved to /content/drive/My Drive/AR_Downscaling/ablation_study_models/ablation_pair_IVT_T500.pt\n"
          ]
        },
        {
          "metadata": {
            "tags": null
          },
          "name": "stderr",
          "output_type": "stream",
          "text": [
            "Epoch 2/25 [Train]: 100%|██████████| 150/150 [00:32<00:00,  4.67it/s, loss=0.6421]\n"
          ]
        },
        {
          "metadata": {
            "tags": null
          },
          "name": "stdout",
          "output_type": "stream",
          "text": [
            "Epoch 2 | Val Loss: 0.671360\n"
          ]
        },
        {
          "metadata": {
            "tags": null
          },
          "name": "stderr",
          "output_type": "stream",
          "text": [
            "Epoch 3/25 [Train]: 100%|██████████| 150/150 [00:31<00:00,  4.74it/s, loss=0.6065]\n"
          ]
        },
        {
          "metadata": {
            "tags": null
          },
          "name": "stdout",
          "output_type": "stream",
          "text": [
            "Epoch 3 | Val Loss: 0.674736\n"
          ]
        },
        {
          "metadata": {
            "tags": null
          },
          "name": "stderr",
          "output_type": "stream",
          "text": [
            "Epoch 4/25 [Train]: 100%|██████████| 150/150 [00:31<00:00,  4.73it/s, loss=1.0932]\n"
          ]
        },
        {
          "metadata": {
            "tags": null
          },
          "name": "stdout",
          "output_type": "stream",
          "text": [
            "Epoch 4 | Val Loss: 0.686084\n"
          ]
        },
        {
          "metadata": {
            "tags": null
          },
          "name": "stderr",
          "output_type": "stream",
          "text": [
            "Epoch 5/25 [Train]: 100%|██████████| 150/150 [00:31<00:00,  4.73it/s, loss=1.1762]\n"
          ]
        },
        {
          "metadata": {
            "tags": null
          },
          "name": "stdout",
          "output_type": "stream",
          "text": [
            "Epoch 5 | Val Loss: 1.356601\n"
          ]
        },
        {
          "metadata": {
            "tags": null
          },
          "name": "stderr",
          "output_type": "stream",
          "text": [
            "Epoch 6/25 [Train]: 100%|██████████| 150/150 [00:31<00:00,  4.74it/s, loss=2.0823]\n"
          ]
        },
        {
          "metadata": {
            "tags": null
          },
          "name": "stdout",
          "output_type": "stream",
          "text": [
            "Epoch 6 | Val Loss: 1.718338\n"
          ]
        },
        {
          "metadata": {
            "tags": null
          },
          "name": "stderr",
          "output_type": "stream",
          "text": [
            "Epoch 7/25 [Train]: 100%|██████████| 150/150 [00:31<00:00,  4.74it/s, loss=2.3448]\n"
          ]
        },
        {
          "metadata": {
            "tags": null
          },
          "name": "stdout",
          "output_type": "stream",
          "text": [
            "Epoch 7 | Val Loss: 1.587123\n"
          ]
        },
        {
          "metadata": {
            "tags": null
          },
          "name": "stderr",
          "output_type": "stream",
          "text": [
            "Epoch 8/25 [Train]: 100%|██████████| 150/150 [00:31<00:00,  4.74it/s, loss=3.1159]\n"
          ]
        },
        {
          "metadata": {
            "tags": null
          },
          "name": "stdout",
          "output_type": "stream",
          "text": [
            "Epoch 8 | Val Loss: 2.185878\n",
            "   🛑 Early stopping triggered.\n",
            "🔬 FINISHED ABLATION RUN: pair_IVT_T500 | Best Val Loss: 0.660718\n",
            "\n",
            "================================================================================\n",
            "🔬 STARTING ABLATION RUN: pair_IVT_RH700\n",
            "   Variables (2): IVT, RH700\n",
            "================================================================================\n"
          ]
        },
        {
          "metadata": {
            "tags": null
          },
          "name": "stderr",
          "output_type": "stream",
          "text": [
            "Epoch 1/25 [Train]: 100%|██████████| 150/150 [00:49<00:00,  3.02it/s, loss=0.8475]\n"
          ]
        },
        {
          "metadata": {
            "tags": null
          },
          "name": "stdout",
          "output_type": "stream",
          "text": [
            "Epoch 1 | Val Loss: 0.680633\n",
            "   ✅ Best model saved to /content/drive/My Drive/AR_Downscaling/ablation_study_models/ablation_pair_IVT_RH700.pt\n"
          ]
        },
        {
          "metadata": {
            "tags": null
          },
          "name": "stderr",
          "output_type": "stream",
          "text": [
            "Epoch 2/25 [Train]: 100%|██████████| 150/150 [00:31<00:00,  4.69it/s, loss=0.9457]\n"
          ]
        },
        {
          "metadata": {
            "tags": null
          },
          "name": "stdout",
          "output_type": "stream",
          "text": [
            "Epoch 2 | Val Loss: 2.509288\n"
          ]
        },
        {
          "metadata": {
            "tags": null
          },
          "name": "stderr",
          "output_type": "stream",
          "text": [
            "Epoch 3/25 [Train]: 100%|██████████| 150/150 [00:31<00:00,  4.73it/s, loss=1.5341]\n"
          ]
        },
        {
          "metadata": {
            "tags": null
          },
          "name": "stdout",
          "output_type": "stream",
          "text": [
            "Epoch 3 | Val Loss: 1.812392\n"
          ]
        },
        {
          "metadata": {
            "tags": null
          },
          "name": "stderr",
          "output_type": "stream",
          "text": [
            "Epoch 4/25 [Train]: 100%|██████████| 150/150 [00:31<00:00,  4.73it/s, loss=2.8711]\n"
          ]
        },
        {
          "metadata": {
            "tags": null
          },
          "name": "stdout",
          "output_type": "stream",
          "text": [
            "Epoch 4 | Val Loss: 6.802514\n"
          ]
        },
        {
          "metadata": {
            "tags": null
          },
          "name": "stderr",
          "output_type": "stream",
          "text": [
            "Epoch 5/25 [Train]: 100%|██████████| 150/150 [00:31<00:00,  4.75it/s, loss=3.9805]\n"
          ]
        },
        {
          "metadata": {
            "tags": null
          },
          "name": "stdout",
          "output_type": "stream",
          "text": [
            "Epoch 5 | Val Loss: 4.370924\n"
          ]
        },
        {
          "metadata": {
            "tags": null
          },
          "name": "stderr",
          "output_type": "stream",
          "text": [
            "Epoch 6/25 [Train]: 100%|██████████| 150/150 [00:31<00:00,  4.74it/s, loss=2.2489]\n"
          ]
        },
        {
          "metadata": {
            "tags": null
          },
          "name": "stdout",
          "output_type": "stream",
          "text": [
            "Epoch 6 | Val Loss: 4.295389\n"
          ]
        },
        {
          "metadata": {
            "tags": null
          },
          "name": "stderr",
          "output_type": "stream",
          "text": [
            "Epoch 7/25 [Train]: 100%|██████████| 150/150 [00:31<00:00,  4.74it/s, loss=2.3014]\n"
          ]
        },
        {
          "metadata": {
            "tags": null
          },
          "name": "stdout",
          "output_type": "stream",
          "text": [
            "Epoch 7 | Val Loss: 3.510108\n"
          ]
        },
        {
          "metadata": {
            "tags": null
          },
          "name": "stderr",
          "output_type": "stream",
          "text": [
            "Epoch 8/25 [Train]: 100%|██████████| 150/150 [00:31<00:00,  4.74it/s, loss=2.0500]\n"
          ]
        },
        {
          "metadata": {
            "tags": null
          },
          "name": "stdout",
          "output_type": "stream",
          "text": [
            "Epoch 8 | Val Loss: 2.655897\n",
            "   🛑 Early stopping triggered.\n",
            "🔬 FINISHED ABLATION RUN: pair_IVT_RH700 | Best Val Loss: 0.680633\n",
            "\n",
            "================================================================================\n",
            "🔬 STARTING ABLATION RUN: pair_T500_T850\n",
            "   Variables (2): T500, T850\n",
            "================================================================================\n"
          ]
        },
        {
          "metadata": {
            "tags": null
          },
          "name": "stderr",
          "output_type": "stream",
          "text": [
            "Epoch 1/25 [Train]: 100%|██████████| 150/150 [00:49<00:00,  3.00it/s, loss=0.5867]\n"
          ]
        },
        {
          "metadata": {
            "tags": null
          },
          "name": "stdout",
          "output_type": "stream",
          "text": [
            "Epoch 1 | Val Loss: 0.758740\n",
            "   ✅ Best model saved to /content/drive/My Drive/AR_Downscaling/ablation_study_models/ablation_pair_T500_T850.pt\n"
          ]
        },
        {
          "metadata": {
            "tags": null
          },
          "name": "stderr",
          "output_type": "stream",
          "text": [
            "Epoch 2/25 [Train]: 100%|██████████| 150/150 [00:31<00:00,  4.69it/s, loss=0.8661]\n"
          ]
        },
        {
          "metadata": {
            "tags": null
          },
          "name": "stdout",
          "output_type": "stream",
          "text": [
            "Epoch 2 | Val Loss: 1.704326\n"
          ]
        },
        {
          "metadata": {
            "tags": null
          },
          "name": "stderr",
          "output_type": "stream",
          "text": [
            "Epoch 3/25 [Train]: 100%|██████████| 150/150 [00:31<00:00,  4.74it/s, loss=1.0091]\n"
          ]
        },
        {
          "metadata": {
            "tags": null
          },
          "name": "stdout",
          "output_type": "stream",
          "text": [
            "Epoch 3 | Val Loss: 0.801034\n"
          ]
        },
        {
          "metadata": {
            "tags": null
          },
          "name": "stderr",
          "output_type": "stream",
          "text": [
            "Epoch 4/25 [Train]: 100%|██████████| 150/150 [00:31<00:00,  4.73it/s, loss=1.4756]\n"
          ]
        },
        {
          "metadata": {
            "tags": null
          },
          "name": "stdout",
          "output_type": "stream",
          "text": [
            "Epoch 4 | Val Loss: 3.366870\n"
          ]
        },
        {
          "metadata": {
            "tags": null
          },
          "name": "stderr",
          "output_type": "stream",
          "text": [
            "Epoch 5/25 [Train]: 100%|██████████| 150/150 [00:31<00:00,  4.74it/s, loss=2.1512]\n"
          ]
        },
        {
          "metadata": {
            "tags": null
          },
          "name": "stdout",
          "output_type": "stream",
          "text": [
            "Epoch 5 | Val Loss: 4.133761\n"
          ]
        },
        {
          "metadata": {
            "tags": null
          },
          "name": "stderr",
          "output_type": "stream",
          "text": [
            "Epoch 6/25 [Train]: 100%|██████████| 150/150 [00:31<00:00,  4.76it/s, loss=2.1304]\n"
          ]
        },
        {
          "metadata": {
            "tags": null
          },
          "name": "stdout",
          "output_type": "stream",
          "text": [
            "Epoch 6 | Val Loss: 3.517705\n"
          ]
        },
        {
          "metadata": {
            "tags": null
          },
          "name": "stderr",
          "output_type": "stream",
          "text": [
            "Epoch 7/25 [Train]: 100%|██████████| 150/150 [00:31<00:00,  4.76it/s, loss=2.8634]\n"
          ]
        },
        {
          "metadata": {
            "tags": null
          },
          "name": "stdout",
          "output_type": "stream",
          "text": [
            "Epoch 7 | Val Loss: 4.247675\n"
          ]
        },
        {
          "metadata": {
            "tags": null
          },
          "name": "stderr",
          "output_type": "stream",
          "text": [
            "Epoch 8/25 [Train]: 100%|██████████| 150/150 [00:31<00:00,  4.76it/s, loss=2.8421]\n"
          ]
        },
        {
          "metadata": {
            "tags": null
          },
          "name": "stdout",
          "output_type": "stream",
          "text": [
            "Epoch 8 | Val Loss: 25.037043\n",
            "   🛑 Early stopping triggered.\n",
            "🔬 FINISHED ABLATION RUN: pair_T500_T850 | Best Val Loss: 0.758740\n",
            "\n",
            "================================================================================\n",
            "🔬 STARTING ABLATION RUN: pair_RH700_W500\n",
            "   Variables (2): RH700, W500\n",
            "================================================================================\n"
          ]
        },
        {
          "metadata": {
            "tags": null
          },
          "name": "stderr",
          "output_type": "stream",
          "text": [
            "Epoch 1/25 [Train]: 100%|██████████| 150/150 [00:49<00:00,  3.01it/s, loss=0.9109]\n"
          ]
        },
        {
          "metadata": {
            "tags": null
          },
          "name": "stdout",
          "output_type": "stream",
          "text": [
            "Epoch 1 | Val Loss: 0.717165\n",
            "   ✅ Best model saved to /content/drive/My Drive/AR_Downscaling/ablation_study_models/ablation_pair_RH700_W500.pt\n"
          ]
        },
        {
          "metadata": {
            "tags": null
          },
          "name": "stderr",
          "output_type": "stream",
          "text": [
            "Epoch 2/25 [Train]: 100%|██████████| 150/150 [00:32<00:00,  4.64it/s, loss=0.7566]\n"
          ]
        },
        {
          "metadata": {
            "tags": null
          },
          "name": "stdout",
          "output_type": "stream",
          "text": [
            "Epoch 2 | Val Loss: 0.671729\n",
            "   ✅ Best model saved to /content/drive/My Drive/AR_Downscaling/ablation_study_models/ablation_pair_RH700_W500.pt\n"
          ]
        },
        {
          "metadata": {
            "tags": null
          },
          "name": "stderr",
          "output_type": "stream",
          "text": [
            "Epoch 3/25 [Train]: 100%|██████████| 150/150 [00:32<00:00,  4.60it/s, loss=0.5290]\n"
          ]
        },
        {
          "metadata": {
            "tags": null
          },
          "name": "stdout",
          "output_type": "stream",
          "text": [
            "Epoch 3 | Val Loss: 0.816654\n"
          ]
        },
        {
          "metadata": {
            "tags": null
          },
          "name": "stderr",
          "output_type": "stream",
          "text": [
            "Epoch 4/25 [Train]: 100%|██████████| 150/150 [00:31<00:00,  4.72it/s, loss=1.6699]\n"
          ]
        },
        {
          "metadata": {
            "tags": null
          },
          "name": "stdout",
          "output_type": "stream",
          "text": [
            "Epoch 4 | Val Loss: 6.882489\n"
          ]
        },
        {
          "metadata": {
            "tags": null
          },
          "name": "stderr",
          "output_type": "stream",
          "text": [
            "Epoch 5/25 [Train]: 100%|██████████| 150/150 [00:31<00:00,  4.73it/s, loss=2.3647]\n"
          ]
        },
        {
          "metadata": {
            "tags": null
          },
          "name": "stdout",
          "output_type": "stream",
          "text": [
            "Epoch 5 | Val Loss: 9.382259\n"
          ]
        },
        {
          "metadata": {
            "tags": null
          },
          "name": "stderr",
          "output_type": "stream",
          "text": [
            "Epoch 6/25 [Train]: 100%|██████████| 150/150 [00:31<00:00,  4.74it/s, loss=3.6850]\n"
          ]
        },
        {
          "metadata": {
            "tags": null
          },
          "name": "stdout",
          "output_type": "stream",
          "text": [
            "Epoch 6 | Val Loss: 13.336525\n"
          ]
        },
        {
          "metadata": {
            "tags": null
          },
          "name": "stderr",
          "output_type": "stream",
          "text": [
            "Epoch 7/25 [Train]: 100%|██████████| 150/150 [00:31<00:00,  4.74it/s, loss=4.5270]\n"
          ]
        },
        {
          "metadata": {
            "tags": null
          },
          "name": "stdout",
          "output_type": "stream",
          "text": [
            "Epoch 7 | Val Loss: 6.077782\n"
          ]
        },
        {
          "metadata": {
            "tags": null
          },
          "name": "stderr",
          "output_type": "stream",
          "text": [
            "Epoch 8/25 [Train]: 100%|██████████| 150/150 [00:31<00:00,  4.75it/s, loss=3.7399]\n"
          ]
        },
        {
          "metadata": {
            "tags": null
          },
          "name": "stdout",
          "output_type": "stream",
          "text": [
            "Epoch 8 | Val Loss: 5.345804\n"
          ]
        },
        {
          "metadata": {
            "tags": null
          },
          "name": "stderr",
          "output_type": "stream",
          "text": [
            "Epoch 9/25 [Train]: 100%|██████████| 150/150 [00:31<00:00,  4.74it/s, loss=3.4660]\n"
          ]
        },
        {
          "metadata": {
            "tags": null
          },
          "name": "stdout",
          "output_type": "stream",
          "text": [
            "Epoch 9 | Val Loss: 4.760293\n",
            "   🛑 Early stopping triggered.\n",
            "🔬 FINISHED ABLATION RUN: pair_RH700_W500 | Best Val Loss: 0.671729\n",
            "\n",
            "================================================================================\n",
            "🔬 STARTING ABLATION RUN: pair_IVT_W500\n",
            "   Variables (2): IVT, W500\n",
            "================================================================================\n"
          ]
        },
        {
          "metadata": {
            "tags": null
          },
          "name": "stderr",
          "output_type": "stream",
          "text": [
            "Epoch 1/25 [Train]: 100%|██████████| 150/150 [00:50<00:00,  3.00it/s, loss=0.9657]\n"
          ]
        },
        {
          "metadata": {
            "tags": null
          },
          "name": "stdout",
          "output_type": "stream",
          "text": [
            "Epoch 1 | Val Loss: 0.683011\n",
            "   ✅ Best model saved to /content/drive/My Drive/AR_Downscaling/ablation_study_models/ablation_pair_IVT_W500.pt\n"
          ]
        },
        {
          "metadata": {
            "tags": null
          },
          "name": "stderr",
          "output_type": "stream",
          "text": [
            "Epoch 2/25 [Train]: 100%|██████████| 150/150 [00:32<00:00,  4.57it/s, loss=1.1099]\n"
          ]
        },
        {
          "metadata": {
            "tags": null
          },
          "name": "stdout",
          "output_type": "stream",
          "text": [
            "Epoch 2 | Val Loss: 0.686459\n"
          ]
        },
        {
          "metadata": {
            "tags": null
          },
          "name": "stderr",
          "output_type": "stream",
          "text": [
            "Epoch 3/25 [Train]: 100%|██████████| 150/150 [00:32<00:00,  4.60it/s, loss=0.5567]\n"
          ]
        },
        {
          "metadata": {
            "tags": null
          },
          "name": "stdout",
          "output_type": "stream",
          "text": [
            "Epoch 3 | Val Loss: 0.661175\n",
            "   ✅ Best model saved to /content/drive/My Drive/AR_Downscaling/ablation_study_models/ablation_pair_IVT_W500.pt\n"
          ]
        },
        {
          "metadata": {
            "tags": null
          },
          "name": "stderr",
          "output_type": "stream",
          "text": [
            "Epoch 4/25 [Train]: 100%|██████████| 150/150 [00:33<00:00,  4.47it/s, loss=0.7223]\n"
          ]
        },
        {
          "metadata": {
            "tags": null
          },
          "name": "stdout",
          "output_type": "stream",
          "text": [
            "Epoch 4 | Val Loss: 0.664928\n"
          ]
        },
        {
          "metadata": {
            "tags": null
          },
          "name": "stderr",
          "output_type": "stream",
          "text": [
            "Epoch 5/25 [Train]: 100%|██████████| 150/150 [00:32<00:00,  4.61it/s, loss=0.8133]\n"
          ]
        },
        {
          "metadata": {
            "tags": null
          },
          "name": "stdout",
          "output_type": "stream",
          "text": [
            "Epoch 5 | Val Loss: 0.707956\n"
          ]
        },
        {
          "metadata": {
            "tags": null
          },
          "name": "stderr",
          "output_type": "stream",
          "text": [
            "Epoch 6/25 [Train]: 100%|██████████| 150/150 [00:32<00:00,  4.64it/s, loss=0.6563]\n"
          ]
        },
        {
          "metadata": {
            "tags": null
          },
          "name": "stdout",
          "output_type": "stream",
          "text": [
            "Epoch 6 | Val Loss: 0.644150\n",
            "   ✅ Best model saved to /content/drive/My Drive/AR_Downscaling/ablation_study_models/ablation_pair_IVT_W500.pt\n"
          ]
        },
        {
          "metadata": {
            "tags": null
          },
          "name": "stderr",
          "output_type": "stream",
          "text": [
            "Epoch 7/25 [Train]: 100%|██████████| 150/150 [00:33<00:00,  4.54it/s, loss=0.7521]\n"
          ]
        },
        {
          "metadata": {
            "tags": null
          },
          "name": "stdout",
          "output_type": "stream",
          "text": [
            "Epoch 7 | Val Loss: 0.656658\n"
          ]
        },
        {
          "metadata": {
            "tags": null
          },
          "name": "stderr",
          "output_type": "stream",
          "text": [
            "Epoch 8/25 [Train]: 100%|██████████| 150/150 [00:31<00:00,  4.69it/s, loss=2.1189]\n"
          ]
        },
        {
          "metadata": {
            "tags": null
          },
          "name": "stdout",
          "output_type": "stream",
          "text": [
            "Epoch 8 | Val Loss: 4.396570\n"
          ]
        },
        {
          "metadata": {
            "tags": null
          },
          "name": "stderr",
          "output_type": "stream",
          "text": [
            "Epoch 9/25 [Train]: 100%|██████████| 150/150 [00:31<00:00,  4.74it/s, loss=1.7595]\n"
          ]
        },
        {
          "metadata": {
            "tags": null
          },
          "name": "stdout",
          "output_type": "stream",
          "text": [
            "Epoch 9 | Val Loss: 950.874237\n"
          ]
        },
        {
          "metadata": {
            "tags": null
          },
          "name": "stderr",
          "output_type": "stream",
          "text": [
            "Epoch 10/25 [Train]: 100%|██████████| 150/150 [00:31<00:00,  4.75it/s, loss=1.8197]\n"
          ]
        },
        {
          "metadata": {
            "tags": null
          },
          "name": "stdout",
          "output_type": "stream",
          "text": [
            "Epoch 10 | Val Loss: 2.087349\n"
          ]
        },
        {
          "metadata": {
            "tags": null
          },
          "name": "stderr",
          "output_type": "stream",
          "text": [
            "Epoch 11/25 [Train]: 100%|██████████| 150/150 [00:31<00:00,  4.75it/s, loss=2.3621]\n"
          ]
        },
        {
          "metadata": {
            "tags": null
          },
          "name": "stdout",
          "output_type": "stream",
          "text": [
            "Epoch 11 | Val Loss: 2.836181\n"
          ]
        },
        {
          "metadata": {
            "tags": null
          },
          "name": "stderr",
          "output_type": "stream",
          "text": [
            "Epoch 12/25 [Train]: 100%|██████████| 150/150 [00:31<00:00,  4.74it/s, loss=2.2411]\n"
          ]
        },
        {
          "metadata": {
            "tags": null
          },
          "name": "stdout",
          "output_type": "stream",
          "text": [
            "Epoch 12 | Val Loss: 3.526403\n"
          ]
        },
        {
          "metadata": {
            "tags": null
          },
          "name": "stderr",
          "output_type": "stream",
          "text": [
            "Epoch 13/25 [Train]: 100%|██████████| 150/150 [00:31<00:00,  4.74it/s, loss=2.6281]\n"
          ]
        },
        {
          "metadata": {
            "tags": null
          },
          "name": "stdout",
          "output_type": "stream",
          "text": [
            "Epoch 13 | Val Loss: 2.625594\n",
            "   🛑 Early stopping triggered.\n",
            "🔬 FINISHED ABLATION RUN: pair_IVT_W500 | Best Val Loss: 0.644150\n",
            "\n",
            "================================================================================\n",
            "🔬 STARTING ABLATION RUN: pair_T500_W500\n",
            "   Variables (2): T500, W500\n",
            "================================================================================\n"
          ]
        },
        {
          "metadata": {
            "tags": null
          },
          "name": "stderr",
          "output_type": "stream",
          "text": [
            "Epoch 1/25 [Train]: 100%|██████████| 150/150 [00:49<00:00,  3.04it/s, loss=0.5986]\n"
          ]
        },
        {
          "metadata": {
            "tags": null
          },
          "name": "stdout",
          "output_type": "stream",
          "text": [
            "Epoch 1 | Val Loss: 0.699504\n",
            "   ✅ Best model saved to /content/drive/My Drive/AR_Downscaling/ablation_study_models/ablation_pair_T500_W500.pt\n"
          ]
        },
        {
          "metadata": {
            "tags": null
          },
          "name": "stderr",
          "output_type": "stream",
          "text": [
            "Epoch 2/25 [Train]: 100%|██████████| 150/150 [00:32<00:00,  4.63it/s, loss=0.6876]\n"
          ]
        },
        {
          "metadata": {
            "tags": null
          },
          "name": "stdout",
          "output_type": "stream",
          "text": [
            "Epoch 2 | Val Loss: 0.740923\n"
          ]
        },
        {
          "metadata": {
            "tags": null
          },
          "name": "stderr",
          "output_type": "stream",
          "text": [
            "Epoch 3/25 [Train]: 100%|██████████| 150/150 [00:32<00:00,  4.68it/s, loss=0.7100]\n"
          ]
        },
        {
          "metadata": {
            "tags": null
          },
          "name": "stdout",
          "output_type": "stream",
          "text": [
            "Epoch 3 | Val Loss: 5.644346\n"
          ]
        },
        {
          "metadata": {
            "tags": null
          },
          "name": "stderr",
          "output_type": "stream",
          "text": [
            "Epoch 4/25 [Train]: 100%|██████████| 150/150 [00:31<00:00,  4.71it/s, loss=2.2283]\n"
          ]
        },
        {
          "metadata": {
            "tags": null
          },
          "name": "stdout",
          "output_type": "stream",
          "text": [
            "Epoch 4 | Val Loss: 45.982360\n"
          ]
        },
        {
          "metadata": {
            "tags": null
          },
          "name": "stderr",
          "output_type": "stream",
          "text": [
            "Epoch 5/25 [Train]: 100%|██████████| 150/150 [00:31<00:00,  4.73it/s, loss=1.7371]\n"
          ]
        },
        {
          "metadata": {
            "tags": null
          },
          "name": "stdout",
          "output_type": "stream",
          "text": [
            "Epoch 5 | Val Loss: 18.541214\n"
          ]
        },
        {
          "metadata": {
            "tags": null
          },
          "name": "stderr",
          "output_type": "stream",
          "text": [
            "Epoch 6/25 [Train]: 100%|██████████| 150/150 [00:31<00:00,  4.73it/s, loss=2.9494]\n"
          ]
        },
        {
          "metadata": {
            "tags": null
          },
          "name": "stdout",
          "output_type": "stream",
          "text": [
            "Epoch 6 | Val Loss: 7.781294\n"
          ]
        },
        {
          "metadata": {
            "tags": null
          },
          "name": "stderr",
          "output_type": "stream",
          "text": [
            "Epoch 7/25 [Train]: 100%|██████████| 150/150 [00:31<00:00,  4.74it/s, loss=3.2055]\n"
          ]
        },
        {
          "metadata": {
            "tags": null
          },
          "name": "stdout",
          "output_type": "stream",
          "text": [
            "Epoch 7 | Val Loss: 4.383222\n"
          ]
        },
        {
          "metadata": {
            "tags": null
          },
          "name": "stderr",
          "output_type": "stream",
          "text": [
            "Epoch 8/25 [Train]: 100%|██████████| 150/150 [00:31<00:00,  4.74it/s, loss=3.4952]\n"
          ]
        },
        {
          "metadata": {
            "tags": null
          },
          "name": "stdout",
          "output_type": "stream",
          "text": [
            "Epoch 8 | Val Loss: 2.560978\n",
            "   🛑 Early stopping triggered.\n",
            "🔬 FINISHED ABLATION RUN: pair_T500_W500 | Best Val Loss: 0.699504\n",
            "\n",
            "================================================================================\n",
            "🔬 STARTING ABLATION RUN: triplet_IVT_T500_RH700\n",
            "   Variables (3): IVT, T500, RH700\n",
            "================================================================================\n"
          ]
        },
        {
          "metadata": {
            "tags": null
          },
          "name": "stderr",
          "output_type": "stream",
          "text": [
            "Epoch 1/25 [Train]: 100%|██████████| 150/150 [00:49<00:00,  3.01it/s, loss=0.7145]\n"
          ]
        },
        {
          "metadata": {
            "tags": null
          },
          "name": "stdout",
          "output_type": "stream",
          "text": [
            "Epoch 1 | Val Loss: 0.661056\n",
            "   ✅ Best model saved to /content/drive/My Drive/AR_Downscaling/ablation_study_models/ablation_triplet_IVT_T500_RH700.pt\n"
          ]
        },
        {
          "metadata": {
            "tags": null
          },
          "name": "stderr",
          "output_type": "stream",
          "text": [
            "Epoch 2/25 [Train]: 100%|██████████| 150/150 [00:32<00:00,  4.69it/s, loss=0.5254]\n"
          ]
        },
        {
          "metadata": {
            "tags": null
          },
          "name": "stdout",
          "output_type": "stream",
          "text": [
            "Epoch 2 | Val Loss: 0.658044\n",
            "   ✅ Best model saved to /content/drive/My Drive/AR_Downscaling/ablation_study_models/ablation_triplet_IVT_T500_RH700.pt\n"
          ]
        },
        {
          "metadata": {
            "tags": null
          },
          "name": "stderr",
          "output_type": "stream",
          "text": [
            "Epoch 3/25 [Train]: 100%|██████████| 150/150 [00:32<00:00,  4.58it/s, loss=0.5990]\n"
          ]
        },
        {
          "metadata": {
            "tags": null
          },
          "name": "stdout",
          "output_type": "stream",
          "text": [
            "Epoch 3 | Val Loss: 0.685095\n"
          ]
        },
        {
          "metadata": {
            "tags": null
          },
          "name": "stderr",
          "output_type": "stream",
          "text": [
            "Epoch 4/25 [Train]: 100%|██████████| 150/150 [00:31<00:00,  4.70it/s, loss=1.2228]\n"
          ]
        },
        {
          "metadata": {
            "tags": null
          },
          "name": "stdout",
          "output_type": "stream",
          "text": [
            "Epoch 4 | Val Loss: 7.232293\n"
          ]
        },
        {
          "metadata": {
            "tags": null
          },
          "name": "stderr",
          "output_type": "stream",
          "text": [
            "Epoch 5/25 [Train]: 100%|██████████| 150/150 [00:31<00:00,  4.71it/s, loss=2.5316]\n"
          ]
        },
        {
          "metadata": {
            "tags": null
          },
          "name": "stdout",
          "output_type": "stream",
          "text": [
            "Epoch 5 | Val Loss: 1.618143\n"
          ]
        },
        {
          "metadata": {
            "tags": null
          },
          "name": "stderr",
          "output_type": "stream",
          "text": [
            "Epoch 6/25 [Train]: 100%|██████████| 150/150 [00:31<00:00,  4.73it/s, loss=2.4862]\n"
          ]
        },
        {
          "metadata": {
            "tags": null
          },
          "name": "stdout",
          "output_type": "stream",
          "text": [
            "Epoch 6 | Val Loss: 4.074911\n"
          ]
        },
        {
          "metadata": {
            "tags": null
          },
          "name": "stderr",
          "output_type": "stream",
          "text": [
            "Epoch 7/25 [Train]: 100%|██████████| 150/150 [00:31<00:00,  4.74it/s, loss=2.8133]\n"
          ]
        },
        {
          "metadata": {
            "tags": null
          },
          "name": "stdout",
          "output_type": "stream",
          "text": [
            "Epoch 7 | Val Loss: 3.397140\n"
          ]
        },
        {
          "metadata": {
            "tags": null
          },
          "name": "stderr",
          "output_type": "stream",
          "text": [
            "Epoch 8/25 [Train]: 100%|██████████| 150/150 [00:31<00:00,  4.75it/s, loss=2.9587]\n"
          ]
        },
        {
          "metadata": {
            "tags": null
          },
          "name": "stdout",
          "output_type": "stream",
          "text": [
            "Epoch 8 | Val Loss: 4.103336\n"
          ]
        },
        {
          "metadata": {
            "tags": null
          },
          "name": "stderr",
          "output_type": "stream",
          "text": [
            "Epoch 9/25 [Train]: 100%|██████████| 150/150 [00:31<00:00,  4.75it/s, loss=3.1178]\n"
          ]
        },
        {
          "metadata": {
            "tags": null
          },
          "name": "stdout",
          "output_type": "stream",
          "text": [
            "Epoch 9 | Val Loss: 4.282472\n",
            "   🛑 Early stopping triggered.\n",
            "🔬 FINISHED ABLATION RUN: triplet_IVT_T500_RH700 | Best Val Loss: 0.658044\n",
            "\n",
            "================================================================================\n",
            "🔬 STARTING ABLATION RUN: triplet_T500_T850_W500\n",
            "   Variables (3): T500, T850, W500\n",
            "================================================================================\n"
          ]
        },
        {
          "metadata": {
            "tags": null
          },
          "name": "stderr",
          "output_type": "stream",
          "text": [
            "Epoch 1/25 [Train]: 100%|██████████| 150/150 [00:49<00:00,  3.02it/s, loss=0.8498]\n"
          ]
        },
        {
          "metadata": {
            "tags": null
          },
          "name": "stdout",
          "output_type": "stream",
          "text": [
            "Epoch 1 | Val Loss: 0.785225\n",
            "   ✅ Best model saved to /content/drive/My Drive/AR_Downscaling/ablation_study_models/ablation_triplet_T500_T850_W500.pt\n"
          ]
        },
        {
          "metadata": {
            "tags": null
          },
          "name": "stderr",
          "output_type": "stream",
          "text": [
            "Epoch 2/25 [Train]: 100%|██████████| 150/150 [00:32<00:00,  4.65it/s, loss=0.8845]\n"
          ]
        },
        {
          "metadata": {
            "tags": null
          },
          "name": "stdout",
          "output_type": "stream",
          "text": [
            "Epoch 2 | Val Loss: 0.690116\n",
            "   ✅ Best model saved to /content/drive/My Drive/AR_Downscaling/ablation_study_models/ablation_triplet_T500_T850_W500.pt\n"
          ]
        },
        {
          "metadata": {
            "tags": null
          },
          "name": "stderr",
          "output_type": "stream",
          "text": [
            "Epoch 3/25 [Train]: 100%|██████████| 150/150 [00:32<00:00,  4.56it/s, loss=0.6439]\n"
          ]
        },
        {
          "metadata": {
            "tags": null
          },
          "name": "stdout",
          "output_type": "stream",
          "text": [
            "Epoch 3 | Val Loss: 0.654452\n",
            "   ✅ Best model saved to /content/drive/My Drive/AR_Downscaling/ablation_study_models/ablation_triplet_T500_T850_W500.pt\n"
          ]
        },
        {
          "metadata": {
            "tags": null
          },
          "name": "stderr",
          "output_type": "stream",
          "text": [
            "Epoch 4/25 [Train]: 100%|██████████| 150/150 [00:33<00:00,  4.54it/s, loss=1.6068]\n"
          ]
        },
        {
          "metadata": {
            "tags": null
          },
          "name": "stdout",
          "output_type": "stream",
          "text": [
            "Epoch 4 | Val Loss: 3.225465\n"
          ]
        },
        {
          "metadata": {
            "tags": null
          },
          "name": "stderr",
          "output_type": "stream",
          "text": [
            "Epoch 5/25 [Train]: 100%|██████████| 150/150 [00:31<00:00,  4.71it/s, loss=2.2715]\n"
          ]
        },
        {
          "metadata": {
            "tags": null
          },
          "name": "stdout",
          "output_type": "stream",
          "text": [
            "Epoch 5 | Val Loss: 3.120574\n"
          ]
        },
        {
          "metadata": {
            "tags": null
          },
          "name": "stderr",
          "output_type": "stream",
          "text": [
            "Epoch 6/25 [Train]: 100%|██████████| 150/150 [00:31<00:00,  4.73it/s, loss=3.4636]\n"
          ]
        },
        {
          "metadata": {
            "tags": null
          },
          "name": "stdout",
          "output_type": "stream",
          "text": [
            "Epoch 6 | Val Loss: 2.137218\n"
          ]
        },
        {
          "metadata": {
            "tags": null
          },
          "name": "stderr",
          "output_type": "stream",
          "text": [
            "Epoch 7/25 [Train]: 100%|██████████| 150/150 [00:31<00:00,  4.74it/s, loss=3.0235]\n"
          ]
        },
        {
          "metadata": {
            "tags": null
          },
          "name": "stdout",
          "output_type": "stream",
          "text": [
            "Epoch 7 | Val Loss: 3.382535\n"
          ]
        },
        {
          "metadata": {
            "tags": null
          },
          "name": "stderr",
          "output_type": "stream",
          "text": [
            "Epoch 8/25 [Train]: 100%|██████████| 150/150 [00:31<00:00,  4.75it/s, loss=2.9960]\n"
          ]
        },
        {
          "metadata": {
            "tags": null
          },
          "name": "stdout",
          "output_type": "stream",
          "text": [
            "Epoch 8 | Val Loss: 2.839100\n"
          ]
        },
        {
          "metadata": {
            "tags": null
          },
          "name": "stderr",
          "output_type": "stream",
          "text": [
            "Epoch 9/25 [Train]: 100%|██████████| 150/150 [00:31<00:00,  4.76it/s, loss=3.1150]\n"
          ]
        },
        {
          "metadata": {
            "tags": null
          },
          "name": "stdout",
          "output_type": "stream",
          "text": [
            "Epoch 9 | Val Loss: 2.723120\n"
          ]
        },
        {
          "metadata": {
            "tags": null
          },
          "name": "stderr",
          "output_type": "stream",
          "text": [
            "Epoch 10/25 [Train]: 100%|██████████| 150/150 [00:31<00:00,  4.75it/s, loss=2.7561]\n"
          ]
        },
        {
          "metadata": {
            "tags": null
          },
          "name": "stdout",
          "output_type": "stream",
          "text": [
            "Epoch 10 | Val Loss: 3.188538\n",
            "   🛑 Early stopping triggered.\n",
            "🔬 FINISHED ABLATION RUN: triplet_T500_T850_W500 | Best Val Loss: 0.654452\n",
            "\n",
            "================================================================================\n",
            "🔬 STARTING ABLATION RUN: triplet_IVT_RH700_W500\n",
            "   Variables (3): IVT, RH700, W500\n",
            "================================================================================\n"
          ]
        },
        {
          "metadata": {
            "tags": null
          },
          "name": "stderr",
          "output_type": "stream",
          "text": [
            "Epoch 1/25 [Train]: 100%|██████████| 150/150 [00:49<00:00,  3.02it/s, loss=0.7269]\n"
          ]
        },
        {
          "metadata": {
            "tags": null
          },
          "name": "stdout",
          "output_type": "stream",
          "text": [
            "Epoch 1 | Val Loss: 0.658414\n",
            "   ✅ Best model saved to /content/drive/My Drive/AR_Downscaling/ablation_study_models/ablation_triplet_IVT_RH700_W500.pt\n"
          ]
        },
        {
          "metadata": {
            "tags": null
          },
          "name": "stderr",
          "output_type": "stream",
          "text": [
            "Epoch 2/25 [Train]: 100%|██████████| 150/150 [00:32<00:00,  4.65it/s, loss=0.8667]\n"
          ]
        },
        {
          "metadata": {
            "tags": null
          },
          "name": "stdout",
          "output_type": "stream",
          "text": [
            "Epoch 2 | Val Loss: 0.704640\n"
          ]
        },
        {
          "metadata": {
            "tags": null
          },
          "name": "stderr",
          "output_type": "stream",
          "text": [
            "Epoch 3/25 [Train]: 100%|██████████| 150/150 [00:31<00:00,  4.71it/s, loss=1.2407]\n"
          ]
        },
        {
          "metadata": {
            "tags": null
          },
          "name": "stdout",
          "output_type": "stream",
          "text": [
            "Epoch 3 | Val Loss: 1.543323\n"
          ]
        },
        {
          "metadata": {
            "tags": null
          },
          "name": "stderr",
          "output_type": "stream",
          "text": [
            "Epoch 4/25 [Train]: 100%|██████████| 150/150 [00:31<00:00,  4.71it/s, loss=3.1639]\n"
          ]
        },
        {
          "metadata": {
            "tags": null
          },
          "name": "stdout",
          "output_type": "stream",
          "text": [
            "Epoch 4 | Val Loss: 109.433516\n"
          ]
        },
        {
          "metadata": {
            "tags": null
          },
          "name": "stderr",
          "output_type": "stream",
          "text": [
            "Epoch 5/25 [Train]: 100%|██████████| 150/150 [00:31<00:00,  4.74it/s, loss=1.9100]\n"
          ]
        },
        {
          "metadata": {
            "tags": null
          },
          "name": "stdout",
          "output_type": "stream",
          "text": [
            "Epoch 5 | Val Loss: 2.748820\n"
          ]
        },
        {
          "metadata": {
            "tags": null
          },
          "name": "stderr",
          "output_type": "stream",
          "text": [
            "Epoch 6/25 [Train]: 100%|██████████| 150/150 [00:31<00:00,  4.74it/s, loss=2.4863]\n"
          ]
        },
        {
          "metadata": {
            "tags": null
          },
          "name": "stdout",
          "output_type": "stream",
          "text": [
            "Epoch 6 | Val Loss: 2.708580\n"
          ]
        },
        {
          "metadata": {
            "tags": null
          },
          "name": "stderr",
          "output_type": "stream",
          "text": [
            "Epoch 7/25 [Train]: 100%|██████████| 150/150 [00:31<00:00,  4.73it/s, loss=2.2969]\n"
          ]
        },
        {
          "metadata": {
            "tags": null
          },
          "name": "stdout",
          "output_type": "stream",
          "text": [
            "Epoch 7 | Val Loss: 2.693905\n"
          ]
        },
        {
          "metadata": {
            "tags": null
          },
          "name": "stderr",
          "output_type": "stream",
          "text": [
            "Epoch 8/25 [Train]: 100%|██████████| 150/150 [00:31<00:00,  4.74it/s, loss=2.8203]\n"
          ]
        },
        {
          "metadata": {
            "tags": null
          },
          "name": "stdout",
          "output_type": "stream",
          "text": [
            "Epoch 8 | Val Loss: 3.877355\n",
            "   🛑 Early stopping triggered.\n",
            "🔬 FINISHED ABLATION RUN: triplet_IVT_RH700_W500 | Best Val Loss: 0.658414\n",
            "\n",
            "================================================================================\n",
            "🔬 STARTING ABLATION RUN: triplet_IVT_T500_W500\n",
            "   Variables (3): IVT, T500, W500\n",
            "================================================================================\n"
          ]
        },
        {
          "metadata": {
            "tags": null
          },
          "name": "stderr",
          "output_type": "stream",
          "text": [
            "Epoch 1/25 [Train]: 100%|██████████| 150/150 [00:49<00:00,  3.01it/s, loss=0.7288]\n"
          ]
        },
        {
          "metadata": {
            "tags": null
          },
          "name": "stdout",
          "output_type": "stream",
          "text": [
            "Epoch 1 | Val Loss: 0.888294\n",
            "   ✅ Best model saved to /content/drive/My Drive/AR_Downscaling/ablation_study_models/ablation_triplet_IVT_T500_W500.pt\n"
          ]
        },
        {
          "metadata": {
            "tags": null
          },
          "name": "stderr",
          "output_type": "stream",
          "text": [
            "Epoch 2/25 [Train]: 100%|██████████| 150/150 [00:32<00:00,  4.67it/s, loss=0.6513]\n"
          ]
        },
        {
          "metadata": {
            "tags": null
          },
          "name": "stdout",
          "output_type": "stream",
          "text": [
            "Epoch 2 | Val Loss: 0.660102\n",
            "   ✅ Best model saved to /content/drive/My Drive/AR_Downscaling/ablation_study_models/ablation_triplet_IVT_T500_W500.pt\n"
          ]
        },
        {
          "metadata": {
            "tags": null
          },
          "name": "stderr",
          "output_type": "stream",
          "text": [
            "Epoch 3/25 [Train]: 100%|██████████| 150/150 [00:32<00:00,  4.57it/s, loss=0.7851]\n"
          ]
        },
        {
          "metadata": {
            "tags": null
          },
          "name": "stdout",
          "output_type": "stream",
          "text": [
            "Epoch 3 | Val Loss: 0.651884\n",
            "   ✅ Best model saved to /content/drive/My Drive/AR_Downscaling/ablation_study_models/ablation_triplet_IVT_T500_W500.pt\n"
          ]
        },
        {
          "metadata": {
            "tags": null
          },
          "name": "stderr",
          "output_type": "stream",
          "text": [
            "Epoch 4/25 [Train]: 100%|██████████| 150/150 [00:32<00:00,  4.56it/s, loss=0.6684]\n"
          ]
        },
        {
          "metadata": {
            "tags": null
          },
          "name": "stdout",
          "output_type": "stream",
          "text": [
            "Epoch 4 | Val Loss: 0.672337\n"
          ]
        },
        {
          "metadata": {
            "tags": null
          },
          "name": "stderr",
          "output_type": "stream",
          "text": [
            "Epoch 5/25 [Train]: 100%|██████████| 150/150 [00:31<00:00,  4.73it/s, loss=1.2615]\n"
          ]
        },
        {
          "metadata": {
            "tags": null
          },
          "name": "stdout",
          "output_type": "stream",
          "text": [
            "Epoch 5 | Val Loss: 1.602244\n"
          ]
        },
        {
          "metadata": {
            "tags": null
          },
          "name": "stderr",
          "output_type": "stream",
          "text": [
            "Epoch 6/25 [Train]: 100%|██████████| 150/150 [00:31<00:00,  4.74it/s, loss=2.6130]\n"
          ]
        },
        {
          "metadata": {
            "tags": null
          },
          "name": "stdout",
          "output_type": "stream",
          "text": [
            "Epoch 6 | Val Loss: 91.184482\n"
          ]
        },
        {
          "metadata": {
            "tags": null
          },
          "name": "stderr",
          "output_type": "stream",
          "text": [
            "Epoch 7/25 [Train]: 100%|██████████| 150/150 [00:31<00:00,  4.76it/s, loss=1.8249]\n"
          ]
        },
        {
          "metadata": {
            "tags": null
          },
          "name": "stdout",
          "output_type": "stream",
          "text": [
            "Epoch 7 | Val Loss: 6.640826\n"
          ]
        },
        {
          "metadata": {
            "tags": null
          },
          "name": "stderr",
          "output_type": "stream",
          "text": [
            "Epoch 8/25 [Train]: 100%|██████████| 150/150 [00:31<00:00,  4.74it/s, loss=2.4763]\n"
          ]
        },
        {
          "metadata": {
            "tags": null
          },
          "name": "stdout",
          "output_type": "stream",
          "text": [
            "Epoch 8 | Val Loss: 5.215681\n"
          ]
        },
        {
          "metadata": {
            "tags": null
          },
          "name": "stderr",
          "output_type": "stream",
          "text": [
            "Epoch 9/25 [Train]: 100%|██████████| 150/150 [00:31<00:00,  4.76it/s, loss=2.1976]\n"
          ]
        },
        {
          "metadata": {
            "tags": null
          },
          "name": "stdout",
          "output_type": "stream",
          "text": [
            "Epoch 9 | Val Loss: 5.886581\n"
          ]
        },
        {
          "metadata": {
            "tags": null
          },
          "name": "stderr",
          "output_type": "stream",
          "text": [
            "Epoch 10/25 [Train]: 100%|██████████| 150/150 [00:31<00:00,  4.75it/s, loss=1.7486]\n"
          ]
        },
        {
          "metadata": {
            "tags": null
          },
          "name": "stdout",
          "output_type": "stream",
          "text": [
            "Epoch 10 | Val Loss: 5.067738\n",
            "   🛑 Early stopping triggered.\n",
            "🔬 FINISHED ABLATION RUN: triplet_IVT_T500_W500 | Best Val Loss: 0.651884\n",
            "\n",
            "================================================================================\n",
            "🔬 STARTING ABLATION RUN: remove_IVT\n",
            "   Variables (4): T500, T850, RH700, W500\n",
            "================================================================================\n"
          ]
        },
        {
          "metadata": {
            "tags": null
          },
          "name": "stderr",
          "output_type": "stream",
          "text": [
            "Epoch 1/25 [Train]: 100%|██████████| 150/150 [00:49<00:00,  3.03it/s, loss=0.5137]\n"
          ]
        },
        {
          "metadata": {
            "tags": null
          },
          "name": "stdout",
          "output_type": "stream",
          "text": [
            "Epoch 1 | Val Loss: 0.708407\n",
            "   ✅ Best model saved to /content/drive/My Drive/AR_Downscaling/ablation_study_models/ablation_remove_IVT.pt\n"
          ]
        },
        {
          "metadata": {
            "tags": null
          },
          "name": "stderr",
          "output_type": "stream",
          "text": [
            "Epoch 2/25 [Train]: 100%|██████████| 150/150 [00:31<00:00,  4.69it/s, loss=1.4312]\n"
          ]
        },
        {
          "metadata": {
            "tags": null
          },
          "name": "stdout",
          "output_type": "stream",
          "text": [
            "Epoch 2 | Val Loss: 13.348461\n"
          ]
        },
        {
          "metadata": {
            "tags": null
          },
          "name": "stderr",
          "output_type": "stream",
          "text": [
            "Epoch 3/25 [Train]: 100%|██████████| 150/150 [00:31<00:00,  4.74it/s, loss=1.5840]\n"
          ]
        },
        {
          "metadata": {
            "tags": null
          },
          "name": "stdout",
          "output_type": "stream",
          "text": [
            "Epoch 3 | Val Loss: 2.392385\n"
          ]
        },
        {
          "metadata": {
            "tags": null
          },
          "name": "stderr",
          "output_type": "stream",
          "text": [
            "Epoch 4/25 [Train]: 100%|██████████| 150/150 [00:31<00:00,  4.71it/s, loss=2.0768]\n"
          ]
        },
        {
          "metadata": {
            "tags": null
          },
          "name": "stdout",
          "output_type": "stream",
          "text": [
            "Epoch 4 | Val Loss: 2.871944\n"
          ]
        },
        {
          "metadata": {
            "tags": null
          },
          "name": "stderr",
          "output_type": "stream",
          "text": [
            "Epoch 5/25 [Train]: 100%|██████████| 150/150 [00:31<00:00,  4.74it/s, loss=3.0143]\n"
          ]
        },
        {
          "metadata": {
            "tags": null
          },
          "name": "stdout",
          "output_type": "stream",
          "text": [
            "Epoch 5 | Val Loss: 5.340636\n"
          ]
        },
        {
          "metadata": {
            "tags": null
          },
          "name": "stderr",
          "output_type": "stream",
          "text": [
            "Epoch 6/25 [Train]: 100%|██████████| 150/150 [00:31<00:00,  4.76it/s, loss=4.4285]\n"
          ]
        },
        {
          "metadata": {
            "tags": null
          },
          "name": "stdout",
          "output_type": "stream",
          "text": [
            "Epoch 6 | Val Loss: 5.354775\n"
          ]
        },
        {
          "metadata": {
            "tags": null
          },
          "name": "stderr",
          "output_type": "stream",
          "text": [
            "Epoch 7/25 [Train]: 100%|██████████| 150/150 [00:31<00:00,  4.74it/s, loss=4.5680]\n"
          ]
        },
        {
          "metadata": {
            "tags": null
          },
          "name": "stdout",
          "output_type": "stream",
          "text": [
            "Epoch 7 | Val Loss: 4.546124\n"
          ]
        },
        {
          "metadata": {
            "tags": null
          },
          "name": "stderr",
          "output_type": "stream",
          "text": [
            "Epoch 8/25 [Train]: 100%|██████████| 150/150 [00:31<00:00,  4.74it/s, loss=4.1496]\n"
          ]
        },
        {
          "metadata": {
            "tags": null
          },
          "name": "stdout",
          "output_type": "stream",
          "text": [
            "Epoch 8 | Val Loss: 3.792282\n",
            "   🛑 Early stopping triggered.\n",
            "🔬 FINISHED ABLATION RUN: remove_IVT | Best Val Loss: 0.708407\n",
            "\n",
            "================================================================================\n",
            "🔬 STARTING ABLATION RUN: remove_T500\n",
            "   Variables (4): IVT, T850, RH700, W500\n",
            "================================================================================\n"
          ]
        },
        {
          "metadata": {
            "tags": null
          },
          "name": "stderr",
          "output_type": "stream",
          "text": [
            "Epoch 1/25 [Train]: 100%|██████████| 150/150 [00:49<00:00,  3.03it/s, loss=0.4924]\n"
          ]
        },
        {
          "metadata": {
            "tags": null
          },
          "name": "stdout",
          "output_type": "stream",
          "text": [
            "Epoch 1 | Val Loss: 0.868993\n",
            "   ✅ Best model saved to /content/drive/My Drive/AR_Downscaling/ablation_study_models/ablation_remove_T500.pt\n"
          ]
        },
        {
          "metadata": {
            "tags": null
          },
          "name": "stderr",
          "output_type": "stream",
          "text": [
            "Epoch 2/25 [Train]: 100%|██████████| 150/150 [00:32<00:00,  4.68it/s, loss=1.0038]\n"
          ]
        },
        {
          "metadata": {
            "tags": null
          },
          "name": "stdout",
          "output_type": "stream",
          "text": [
            "Epoch 2 | Val Loss: 1.287481\n"
          ]
        },
        {
          "metadata": {
            "tags": null
          },
          "name": "stderr",
          "output_type": "stream",
          "text": [
            "Epoch 3/25 [Train]: 100%|██████████| 150/150 [00:31<00:00,  4.70it/s, loss=2.5295]\n"
          ]
        },
        {
          "metadata": {
            "tags": null
          },
          "name": "stdout",
          "output_type": "stream",
          "text": [
            "Epoch 3 | Val Loss: 34.307343\n"
          ]
        },
        {
          "metadata": {
            "tags": null
          },
          "name": "stderr",
          "output_type": "stream",
          "text": [
            "Epoch 4/25 [Train]: 100%|██████████| 150/150 [00:31<00:00,  4.72it/s, loss=3.0544]\n"
          ]
        },
        {
          "metadata": {
            "tags": null
          },
          "name": "stdout",
          "output_type": "stream",
          "text": [
            "Epoch 4 | Val Loss: 3.047592\n"
          ]
        },
        {
          "metadata": {
            "tags": null
          },
          "name": "stderr",
          "output_type": "stream",
          "text": [
            "Epoch 5/25 [Train]: 100%|██████████| 150/150 [00:31<00:00,  4.73it/s, loss=3.3059]\n"
          ]
        },
        {
          "metadata": {
            "tags": null
          },
          "name": "stdout",
          "output_type": "stream",
          "text": [
            "Epoch 5 | Val Loss: 3.038998\n"
          ]
        },
        {
          "metadata": {
            "tags": null
          },
          "name": "stderr",
          "output_type": "stream",
          "text": [
            "Epoch 6/25 [Train]: 100%|██████████| 150/150 [00:31<00:00,  4.74it/s, loss=2.9043]\n"
          ]
        },
        {
          "metadata": {
            "tags": null
          },
          "name": "stdout",
          "output_type": "stream",
          "text": [
            "Epoch 6 | Val Loss: 3.434396\n"
          ]
        },
        {
          "metadata": {
            "tags": null
          },
          "name": "stderr",
          "output_type": "stream",
          "text": [
            "Epoch 7/25 [Train]: 100%|██████████| 150/150 [00:31<00:00,  4.73it/s, loss=2.4362]\n"
          ]
        },
        {
          "metadata": {
            "tags": null
          },
          "name": "stdout",
          "output_type": "stream",
          "text": [
            "Epoch 7 | Val Loss: 2.564261\n"
          ]
        },
        {
          "metadata": {
            "tags": null
          },
          "name": "stderr",
          "output_type": "stream",
          "text": [
            "Epoch 8/25 [Train]: 100%|██████████| 150/150 [00:31<00:00,  4.73it/s, loss=2.7750]\n"
          ]
        },
        {
          "metadata": {
            "tags": null
          },
          "name": "stdout",
          "output_type": "stream",
          "text": [
            "Epoch 8 | Val Loss: 2.596969\n",
            "   🛑 Early stopping triggered.\n",
            "🔬 FINISHED ABLATION RUN: remove_T500 | Best Val Loss: 0.868993\n",
            "\n",
            "================================================================================\n",
            "🔬 STARTING ABLATION RUN: remove_T850\n",
            "   Variables (4): IVT, T500, RH700, W500\n",
            "================================================================================\n"
          ]
        },
        {
          "metadata": {
            "tags": null
          },
          "name": "stderr",
          "output_type": "stream",
          "text": [
            "Epoch 1/25 [Train]: 100%|██████████| 150/150 [00:48<00:00,  3.07it/s, loss=0.6342]\n"
          ]
        },
        {
          "metadata": {
            "tags": null
          },
          "name": "stdout",
          "output_type": "stream",
          "text": [
            "Epoch 1 | Val Loss: 0.630803\n",
            "   ✅ Best model saved to /content/drive/My Drive/AR_Downscaling/ablation_study_models/ablation_remove_T850.pt\n"
          ]
        },
        {
          "metadata": {
            "tags": null
          },
          "name": "stderr",
          "output_type": "stream",
          "text": [
            "Epoch 2/25 [Train]: 100%|██████████| 150/150 [00:32<00:00,  4.68it/s, loss=1.9743]\n"
          ]
        },
        {
          "metadata": {
            "tags": null
          },
          "name": "stdout",
          "output_type": "stream",
          "text": [
            "Epoch 2 | Val Loss: 2.174740\n"
          ]
        },
        {
          "metadata": {
            "tags": null
          },
          "name": "stderr",
          "output_type": "stream",
          "text": [
            "Epoch 3/25 [Train]: 100%|██████████| 150/150 [00:31<00:00,  4.71it/s, loss=2.9460]\n"
          ]
        },
        {
          "metadata": {
            "tags": null
          },
          "name": "stdout",
          "output_type": "stream",
          "text": [
            "Epoch 3 | Val Loss: 7.833229\n"
          ]
        },
        {
          "metadata": {
            "tags": null
          },
          "name": "stderr",
          "output_type": "stream",
          "text": [
            "Epoch 4/25 [Train]: 100%|██████████| 150/150 [00:31<00:00,  4.72it/s, loss=3.0284]\n"
          ]
        },
        {
          "metadata": {
            "tags": null
          },
          "name": "stdout",
          "output_type": "stream",
          "text": [
            "Epoch 4 | Val Loss: 5.611734\n"
          ]
        },
        {
          "metadata": {
            "tags": null
          },
          "name": "stderr",
          "output_type": "stream",
          "text": [
            "Epoch 5/25 [Train]: 100%|██████████| 150/150 [00:31<00:00,  4.73it/s, loss=2.9602]\n"
          ]
        },
        {
          "metadata": {
            "tags": null
          },
          "name": "stdout",
          "output_type": "stream",
          "text": [
            "Epoch 5 | Val Loss: 6.338569\n"
          ]
        },
        {
          "metadata": {
            "tags": null
          },
          "name": "stderr",
          "output_type": "stream",
          "text": [
            "Epoch 6/25 [Train]: 100%|██████████| 150/150 [00:31<00:00,  4.74it/s, loss=3.6385]\n"
          ]
        },
        {
          "metadata": {
            "tags": null
          },
          "name": "stdout",
          "output_type": "stream",
          "text": [
            "Epoch 6 | Val Loss: 16.819782\n"
          ]
        },
        {
          "metadata": {
            "tags": null
          },
          "name": "stderr",
          "output_type": "stream",
          "text": [
            "Epoch 7/25 [Train]: 100%|██████████| 150/150 [00:31<00:00,  4.74it/s, loss=2.4896]\n"
          ]
        },
        {
          "metadata": {
            "tags": null
          },
          "name": "stdout",
          "output_type": "stream",
          "text": [
            "Epoch 7 | Val Loss: 3.893343\n"
          ]
        },
        {
          "metadata": {
            "tags": null
          },
          "name": "stderr",
          "output_type": "stream",
          "text": [
            "Epoch 8/25 [Train]: 100%|██████████| 150/150 [00:31<00:00,  4.74it/s, loss=3.3024]\n"
          ]
        },
        {
          "metadata": {
            "tags": null
          },
          "name": "stdout",
          "output_type": "stream",
          "text": [
            "Epoch 8 | Val Loss: 4.134728\n",
            "   🛑 Early stopping triggered.\n",
            "🔬 FINISHED ABLATION RUN: remove_T850 | Best Val Loss: 0.630803\n",
            "\n",
            "================================================================================\n",
            "🔬 STARTING ABLATION RUN: remove_RH700\n",
            "   Variables (4): IVT, T500, T850, W500\n",
            "================================================================================\n"
          ]
        },
        {
          "metadata": {
            "tags": null
          },
          "name": "stderr",
          "output_type": "stream",
          "text": [
            "Epoch 1/25 [Train]: 100%|██████████| 150/150 [00:49<00:00,  3.00it/s, loss=0.5872]\n"
          ]
        },
        {
          "metadata": {
            "tags": null
          },
          "name": "stdout",
          "output_type": "stream",
          "text": [
            "Epoch 1 | Val Loss: 0.657720\n",
            "   ✅ Best model saved to /content/drive/My Drive/AR_Downscaling/ablation_study_models/ablation_remove_RH700.pt\n"
          ]
        },
        {
          "metadata": {
            "tags": null
          },
          "name": "stderr",
          "output_type": "stream",
          "text": [
            "Epoch 2/25 [Train]: 100%|██████████| 150/150 [00:32<00:00,  4.66it/s, loss=1.1775]\n"
          ]
        },
        {
          "metadata": {
            "tags": null
          },
          "name": "stdout",
          "output_type": "stream",
          "text": [
            "Epoch 2 | Val Loss: 9.866232\n"
          ]
        },
        {
          "metadata": {
            "tags": null
          },
          "name": "stderr",
          "output_type": "stream",
          "text": [
            "Epoch 3/25 [Train]: 100%|██████████| 150/150 [00:31<00:00,  4.73it/s, loss=1.9426]\n"
          ]
        },
        {
          "metadata": {
            "tags": null
          },
          "name": "stdout",
          "output_type": "stream",
          "text": [
            "Epoch 3 | Val Loss: 5.674184\n"
          ]
        },
        {
          "metadata": {
            "tags": null
          },
          "name": "stderr",
          "output_type": "stream",
          "text": [
            "Epoch 4/25 [Train]: 100%|██████████| 150/150 [00:31<00:00,  4.72it/s, loss=1.9806]\n"
          ]
        },
        {
          "metadata": {
            "tags": null
          },
          "name": "stdout",
          "output_type": "stream",
          "text": [
            "Epoch 4 | Val Loss: 1.420342\n"
          ]
        },
        {
          "metadata": {
            "tags": null
          },
          "name": "stderr",
          "output_type": "stream",
          "text": [
            "Epoch 5/25 [Train]: 100%|██████████| 150/150 [00:31<00:00,  4.74it/s, loss=2.5903]\n"
          ]
        },
        {
          "metadata": {
            "tags": null
          },
          "name": "stdout",
          "output_type": "stream",
          "text": [
            "Epoch 5 | Val Loss: 1.875696\n"
          ]
        },
        {
          "metadata": {
            "tags": null
          },
          "name": "stderr",
          "output_type": "stream",
          "text": [
            "Epoch 6/25 [Train]: 100%|██████████| 150/150 [00:31<00:00,  4.73it/s, loss=2.6689]\n"
          ]
        },
        {
          "metadata": {
            "tags": null
          },
          "name": "stdout",
          "output_type": "stream",
          "text": [
            "Epoch 6 | Val Loss: 2.867537\n"
          ]
        },
        {
          "metadata": {
            "tags": null
          },
          "name": "stderr",
          "output_type": "stream",
          "text": [
            "Epoch 7/25 [Train]: 100%|██████████| 150/150 [00:31<00:00,  4.73it/s, loss=2.5292]\n"
          ]
        },
        {
          "metadata": {
            "tags": null
          },
          "name": "stdout",
          "output_type": "stream",
          "text": [
            "Epoch 7 | Val Loss: 6.476830\n"
          ]
        },
        {
          "metadata": {
            "tags": null
          },
          "name": "stderr",
          "output_type": "stream",
          "text": [
            "Epoch 8/25 [Train]: 100%|██████████| 150/150 [00:31<00:00,  4.74it/s, loss=2.5473]\n"
          ]
        },
        {
          "metadata": {
            "tags": null
          },
          "name": "stdout",
          "output_type": "stream",
          "text": [
            "Epoch 8 | Val Loss: 2.078914\n",
            "   🛑 Early stopping triggered.\n",
            "🔬 FINISHED ABLATION RUN: remove_RH700 | Best Val Loss: 0.657720\n",
            "\n",
            "================================================================================\n",
            "🔬 STARTING ABLATION RUN: remove_W500\n",
            "   Variables (4): IVT, T500, T850, RH700\n",
            "================================================================================\n"
          ]
        },
        {
          "metadata": {
            "tags": null
          },
          "name": "stderr",
          "output_type": "stream",
          "text": [
            "Epoch 1/25 [Train]: 100%|██████████| 150/150 [00:50<00:00,  2.98it/s, loss=0.7437]\n"
          ]
        },
        {
          "metadata": {
            "tags": null
          },
          "name": "stdout",
          "output_type": "stream",
          "text": [
            "Epoch 1 | Val Loss: 0.670206\n",
            "   ✅ Best model saved to /content/drive/My Drive/AR_Downscaling/ablation_study_models/ablation_remove_W500.pt\n"
          ]
        },
        {
          "metadata": {
            "tags": null
          },
          "name": "stderr",
          "output_type": "stream",
          "text": [
            "Epoch 2/25 [Train]: 100%|██████████| 150/150 [00:31<00:00,  4.69it/s, loss=0.5821]\n"
          ]
        },
        {
          "metadata": {
            "tags": null
          },
          "name": "stdout",
          "output_type": "stream",
          "text": [
            "Epoch 2 | Val Loss: 0.676756\n"
          ]
        },
        {
          "metadata": {
            "tags": null
          },
          "name": "stderr",
          "output_type": "stream",
          "text": [
            "Epoch 3/25 [Train]: 100%|██████████| 150/150 [00:31<00:00,  4.73it/s, loss=1.2897]\n"
          ]
        },
        {
          "metadata": {
            "tags": null
          },
          "name": "stdout",
          "output_type": "stream",
          "text": [
            "Epoch 3 | Val Loss: 2.673434\n"
          ]
        },
        {
          "metadata": {
            "tags": null
          },
          "name": "stderr",
          "output_type": "stream",
          "text": [
            "Epoch 4/25 [Train]: 100%|██████████| 150/150 [00:31<00:00,  4.73it/s, loss=1.6092]\n"
          ]
        },
        {
          "metadata": {
            "tags": null
          },
          "name": "stdout",
          "output_type": "stream",
          "text": [
            "Epoch 4 | Val Loss: 2.473910\n"
          ]
        },
        {
          "metadata": {
            "tags": null
          },
          "name": "stderr",
          "output_type": "stream",
          "text": [
            "Epoch 5/25 [Train]: 100%|██████████| 150/150 [00:31<00:00,  4.73it/s, loss=1.6397]\n"
          ]
        },
        {
          "metadata": {
            "tags": null
          },
          "name": "stdout",
          "output_type": "stream",
          "text": [
            "Epoch 5 | Val Loss: 2.842528\n"
          ]
        },
        {
          "metadata": {
            "tags": null
          },
          "name": "stderr",
          "output_type": "stream",
          "text": [
            "Epoch 6/25 [Train]: 100%|██████████| 150/150 [00:31<00:00,  4.73it/s, loss=2.1626]\n"
          ]
        },
        {
          "metadata": {
            "tags": null
          },
          "name": "stdout",
          "output_type": "stream",
          "text": [
            "Epoch 6 | Val Loss: 2.214226\n"
          ]
        },
        {
          "metadata": {
            "tags": null
          },
          "name": "stderr",
          "output_type": "stream",
          "text": [
            "Epoch 7/25 [Train]: 100%|██████████| 150/150 [00:31<00:00,  4.74it/s, loss=2.7676]\n"
          ]
        },
        {
          "metadata": {
            "tags": null
          },
          "name": "stdout",
          "output_type": "stream",
          "text": [
            "Epoch 7 | Val Loss: 2.774950\n"
          ]
        },
        {
          "metadata": {
            "tags": null
          },
          "name": "stderr",
          "output_type": "stream",
          "text": [
            "Epoch 8/25 [Train]: 100%|██████████| 150/150 [00:31<00:00,  4.75it/s, loss=2.5092]\n"
          ]
        },
        {
          "metadata": {
            "tags": null
          },
          "name": "stdout",
          "output_type": "stream",
          "text": [
            "Epoch 8 | Val Loss: 3.700891\n",
            "   🛑 Early stopping triggered.\n",
            "🔬 FINISHED ABLATION RUN: remove_W500 | Best Val Loss: 0.670206\n",
            "\n",
            "================================================================================\n",
            "🔬 STARTING ABLATION RUN: all_variables\n",
            "   Variables (5): IVT, T500, T850, RH700, W500\n",
            "================================================================================\n"
          ]
        },
        {
          "output_type": "stream",
          "name": "stderr",
          "text": [
            "Epoch 1/25 [Train]: 100%|██████████| 150/150 [00:50<00:00,  3.00it/s, loss=0.4587]\n"
          ]
        },
        {
          "output_type": "stream",
          "name": "stdout",
          "text": [
            "Epoch 1 | Val Loss: 0.725073\n",
            "   ✅ Best model saved to /content/drive/My Drive/AR_Downscaling/ablation_study_models/ablation_all_variables.pt\n"
          ]
        },
        {
          "output_type": "stream",
          "name": "stderr",
          "text": [
            "Epoch 2/25 [Train]: 100%|██████████| 150/150 [00:32<00:00,  4.68it/s, loss=0.9583]\n"
          ]
        },
        {
          "output_type": "stream",
          "name": "stdout",
          "text": [
            "Epoch 2 | Val Loss: 2.974386\n"
          ]
        },
        {
          "output_type": "stream",
          "name": "stderr",
          "text": [
            "Epoch 3/25 [Train]: 100%|██████████| 150/150 [00:31<00:00,  4.70it/s, loss=1.0732]\n"
          ]
        },
        {
          "output_type": "stream",
          "name": "stdout",
          "text": [
            "Epoch 3 | Val Loss: 2.372182\n"
          ]
        },
        {
          "output_type": "stream",
          "name": "stderr",
          "text": [
            "Epoch 4/25 [Train]: 100%|██████████| 150/150 [00:31<00:00,  4.72it/s, loss=1.8062]\n"
          ]
        },
        {
          "output_type": "stream",
          "name": "stdout",
          "text": [
            "Epoch 4 | Val Loss: 5.312698\n"
          ]
        },
        {
          "output_type": "stream",
          "name": "stderr",
          "text": [
            "Epoch 5/25 [Train]: 100%|██████████| 150/150 [00:31<00:00,  4.74it/s, loss=1.7034]\n"
          ]
        },
        {
          "output_type": "stream",
          "name": "stdout",
          "text": [
            "Epoch 5 | Val Loss: 2.382265\n"
          ]
        },
        {
          "output_type": "stream",
          "name": "stderr",
          "text": [
            "Epoch 6/25 [Train]: 100%|██████████| 150/150 [00:31<00:00,  4.74it/s, loss=2.0423]\n"
          ]
        },
        {
          "output_type": "stream",
          "name": "stdout",
          "text": [
            "Epoch 6 | Val Loss: 4.105523\n"
          ]
        },
        {
          "output_type": "stream",
          "name": "stderr",
          "text": [
            "Epoch 7/25 [Train]: 100%|██████████| 150/150 [00:31<00:00,  4.74it/s, loss=2.4264]\n"
          ]
        },
        {
          "output_type": "stream",
          "name": "stdout",
          "text": [
            "Epoch 7 | Val Loss: 4.712220\n"
          ]
        },
        {
          "output_type": "stream",
          "name": "stderr",
          "text": [
            "Epoch 8/25 [Train]: 100%|██████████| 150/150 [00:31<00:00,  4.73it/s, loss=1.5335]\n"
          ]
        },
        {
          "output_type": "stream",
          "name": "stdout",
          "text": [
            "Epoch 8 | Val Loss: 1.607224\n",
            "   🛑 Early stopping triggered.\n",
            "🔬 FINISHED ABLATION RUN: all_variables | Best Val Loss: 0.725073\n",
            "\n",
            "\n",
            "🎉🎉🎉 All ablation study models trained successfully! 🎉🎉🎉\n"
          ]
        }
      ],
      "source": [
        "#\n",
        "# This script systematically trains the Regression Baseline model for all 21\n",
        "# variable combinations to conduct a scientifically rigorous ablation study.\n",
        "# It uses the same AdvancedLoss as the main regression model for fair comparison.\n",
        "#\n",
        "import torch\n",
        "import torch.nn as nn\n",
        "import torch.nn.functional as F\n",
        "from torch.utils.data import Dataset, DataLoader\n",
        "import numpy as np\n",
        "from pathlib import Path\n",
        "import joblib\n",
        "import warnings\n",
        "from tqdm import tqdm\n",
        "import json\n",
        "import gc\n",
        "\n",
        "warnings.filterwarnings('ignore')\n",
        "\n",
        "# --- 1. CONFIGURATION ---\n",
        "PROJECT_PATH = Path('/content/drive/My Drive/AR_Downscaling')\n",
        "DATA_DIR = PROJECT_PATH / 'final_dataset_multi_variable'\n",
        "OUTPUT_DIR = PROJECT_PATH / 'ablation_study_models'\n",
        "OUTPUT_DIR.mkdir(exist_ok=True)\n",
        "\n",
        "# --- Training Hyperparameters (MUST remain constant for all models) ---\n",
        "EPOCHS = 25\n",
        "BATCH_SIZE = 8\n",
        "LEARNING_RATE = 1e-4\n",
        "WARMUP_EPOCHS = 3\n",
        "EARLY_STOPPING_PATIENCE = 7\n",
        "GRADIENT_CLIP = 1.0\n",
        "\n",
        "# --- 2. ABLATION STUDY CONFIGURATION ---\n",
        "ALL_VARIABLES = ['IVT', 'T500', 'T850', 'RH700', 'W500']\n",
        "\n",
        "ABLATION_CONFIGS = {\n",
        "    # --- Single Variable Models (5 total) ---\n",
        "    'single_IVT': ['IVT'],\n",
        "    'single_T500': ['T500'],\n",
        "    'single_T850': ['T850'],\n",
        "    'single_RH700': ['RH700'],\n",
        "    'single_W500': ['W500'],\n",
        "    # --- Two Variable Models (6 total from your script) ---\n",
        "    'pair_IVT_T500': ['IVT', 'T500'],\n",
        "    'pair_IVT_RH700': ['IVT', 'RH700'],\n",
        "    'pair_T500_T850': ['T500', 'T850'],\n",
        "    'pair_RH700_W500': ['RH700', 'W500'],\n",
        "    'pair_IVT_W500': ['IVT', 'W500'],\n",
        "    'pair_T500_W500': ['T500', 'W500'],\n",
        "    # --- Three Variable Models (4 total from your script) ---\n",
        "    'triplet_IVT_T500_RH700': ['IVT', 'T500', 'RH700'],\n",
        "    'triplet_T500_T850_W500': ['T500', 'T850', 'W500'],\n",
        "    'triplet_IVT_RH700_W500': ['IVT', 'RH700', 'W500'],\n",
        "    'triplet_IVT_T500_W500': ['IVT', 'T500', 'W500'],\n",
        "    # --- Four Variable Models (\"Leave-One-Out\") (5 total) ---\n",
        "    'remove_IVT': [v for v in ALL_VARIABLES if v != 'IVT'],\n",
        "    'remove_T500': [v for v in ALL_VARIABLES if v != 'T500'],\n",
        "    'remove_T850': [v for v in ALL_VARIABLES if v != 'T850'],\n",
        "    'remove_RH700': [v for v in ALL_VARIABLES if v != 'RH700'],\n",
        "    'remove_W500': [v for v in ALL_VARIABLES if v != 'W500'],\n",
        "    # --- Five Variable Model (1 total) ---\n",
        "    'all_variables': ALL_VARIABLES,\n",
        "}\n",
        "\n",
        "# --- 3. FLEXIBLE DATASET & MODEL ---\n",
        "class FlexibleAblationDataset(Dataset):\n",
        "    def __init__(self, data_dir: Path, split: str, variable_indices: list):\n",
        "        self.split_dir = data_dir / split\n",
        "        self.predictor_files = sorted(list(self.split_dir.glob('*_predictor.npy')))\n",
        "        self.stats = joblib.load(data_dir / 'normalization_stats_multi_variable.joblib')\n",
        "        self.variable_indices = variable_indices\n",
        "\n",
        "    def __len__(self): return len(self.predictor_files)\n",
        "    def __getitem__(self, idx):\n",
        "        pred_path = self.predictor_files[idx]\n",
        "        targ_path = Path(str(pred_path).replace('_predictor.npy', '_target.npy'))\n",
        "        full_predictor = np.load(pred_path).astype(np.float32)\n",
        "        target_data = np.load(targ_path).astype(np.float32)\n",
        "        predictor_subset = full_predictor[self.variable_indices, :, :]\n",
        "        mean_subset = self.stats['predictor_mean'][self.variable_indices, None, None]\n",
        "        std_subset = self.stats['predictor_std'][self.variable_indices, None, None]\n",
        "        predictor_norm = (predictor_subset - mean_subset) / (std_subset + 1e-8)\n",
        "        target_norm = (target_data - self.stats['target_mean']) / (self.stats['target_std'] + 1e-8)\n",
        "        return torch.from_numpy(predictor_norm), torch.from_numpy(target_norm).unsqueeze(0)\n",
        "\n",
        "class SimplifiedAttention(nn.Module):\n",
        "    def __init__(self, channels):\n",
        "        super().__init__()\n",
        "        self.channel_att = nn.Sequential(nn.AdaptiveAvgPool2d(1), nn.Conv2d(channels, channels // 16, 1), nn.ReLU(inplace=True), nn.Conv2d(channels // 16, channels, 1), nn.Sigmoid())\n",
        "        self.spatial_att = nn.Sequential(nn.Conv2d(channels, 1, 7, padding=3), nn.Sigmoid())\n",
        "    def forward(self, x):\n",
        "        ch_att = self.channel_att(x); x = x * ch_att; sp_att = self.spatial_att(x); x = x * sp_att\n",
        "        return x\n",
        "\n",
        "class FlexibleAblationModel(nn.Module):\n",
        "    def __init__(self, input_channels, base_channels=64, depth=4, use_attention=True):\n",
        "        super().__init__()\n",
        "        self.use_attention, self.depth = use_attention, depth\n",
        "        self.channels = [base_channels * min(2**i, 8) for i in range(depth)]\n",
        "        self.encoders, self.downsamplers = nn.ModuleList(), nn.ModuleList()\n",
        "        in_ch = input_channels\n",
        "        for i, out_ch in enumerate(self.channels):\n",
        "            self.encoders.append(self._conv_block(in_ch, out_ch))\n",
        "            if i < len(self.channels) - 1: self.downsamplers.append(nn.Conv2d(out_ch, out_ch, 3, stride=2, padding=1))\n",
        "            in_ch = out_ch\n",
        "        bottleneck_ch = self.channels[-1]\n",
        "        self.bottleneck = self._conv_block(self.channels[-1], bottleneck_ch)\n",
        "        if self.use_attention: self.attention = SimplifiedAttention(bottleneck_ch)\n",
        "        self.upsamplers, self.decoders = nn.ModuleList(), nn.ModuleList()\n",
        "        for i in range(depth - 1, -1, -1):\n",
        "            in_ch = bottleneck_ch if i == depth - 1 else self.channels[i+1]\n",
        "            out_ch = self.channels[i]\n",
        "            self.upsamplers.append(nn.ConvTranspose2d(in_ch, out_ch, 2, stride=2))\n",
        "            self.decoders.append(self._conv_block(out_ch * 2, out_ch))\n",
        "        self.final_conv = nn.Sequential(nn.Conv2d(self.channels[0], self.channels[0] // 2, 3, padding=1), nn.BatchNorm2d(self.channels[0] // 2), nn.ReLU(inplace=True), nn.Conv2d(self.channels[0] // 2, 1, 1))\n",
        "\n",
        "    def _conv_block(self, in_ch, out_ch): return nn.Sequential(nn.Conv2d(in_ch, out_ch, 3, padding=1), nn.BatchNorm2d(out_ch), nn.ReLU(inplace=True), nn.Conv2d(out_ch, out_ch, 3, padding=1), nn.BatchNorm2d(out_ch), nn.ReLU(inplace=True))\n",
        "\n",
        "    def forward(self, x):\n",
        "        skips = []\n",
        "        for i in range(len(self.encoders)):\n",
        "            x = self.encoders[i](x); skips.append(x)\n",
        "            if i < len(self.downsamplers): x = self.downsamplers[i](x)\n",
        "        x = self.bottleneck(x)\n",
        "        if self.use_attention: x = self.attention(x)\n",
        "        for i, (up, dec) in enumerate(zip(self.upsamplers, self.decoders)):\n",
        "            x = up(x); skip = skips[len(skips) - 1 - i]\n",
        "            if x.shape[-2:] != skip.shape[-2:]: x = F.interpolate(x, size=skip.shape[-2:], mode='bilinear', align_corners=False)\n",
        "            x = torch.cat([x, skip], dim=1); x = dec(x)\n",
        "        return self.final_conv(x)\n",
        "\n",
        "# --- 4. ADVANCED LOSS FUNCTION (for consistency) ---\n",
        "class AdvancedLoss(nn.Module):\n",
        "    def __init__(self, mse_weight=0.6, ssim_weight=0.2, gradient_weight=0.2):\n",
        "        super().__init__()\n",
        "        self.mse_weight = mse_weight\n",
        "        self.ssim_weight = ssim_weight\n",
        "        self.gradient_weight = gradient_weight\n",
        "        self.mse_loss = nn.MSELoss()\n",
        "        self.l1_loss = nn.L1Loss()\n",
        "\n",
        "    def ssim_loss(self, pred, target, window_size=11):\n",
        "        mu1 = F.avg_pool2d(pred, window_size, 1, padding=window_size//2)\n",
        "        mu2 = F.avg_pool2d(target, window_size, 1, padding=window_size//2)\n",
        "        mu1_sq, mu2_sq, mu1_mu2 = mu1**2, mu2**2, mu1 * mu2\n",
        "        sigma1_sq = F.avg_pool2d(pred**2, window_size, 1, padding=window_size//2) - mu1_sq\n",
        "        sigma2_sq = F.avg_pool2d(target**2, window_size, 1, padding=window_size//2) - mu2_sq\n",
        "        sigma12 = F.avg_pool2d(pred*target, window_size, 1, padding=window_size//2) - mu1_mu2\n",
        "        c1, c2 = 0.01**2, 0.03**2\n",
        "        ssim_map = ((2*mu1_mu2 + c1) * (2*sigma12 + c2)) / ((mu1_sq + mu2_sq + c1) * (sigma1_sq + sigma2_sq + c2))\n",
        "        return 1 - ssim_map.mean()\n",
        "\n",
        "    def gradient_loss(self, pred, target):\n",
        "        sobel_x = torch.tensor([[-1, 0, 1], [-2, 0, 2], [-1, 0, 1]], dtype=torch.float32).view(1, 1, 3, 3).to(pred.device)\n",
        "        sobel_y = torch.tensor([[-1, -2, -1], [0, 0, 0], [1, 2, 1]], dtype=torch.float32).view(1, 1, 3, 3).to(pred.device)\n",
        "        pred_grad_x = F.conv2d(pred, sobel_x, padding=1)\n",
        "        pred_grad_y = F.conv2d(pred, sobel_y, padding=1)\n",
        "        target_grad_x = F.conv2d(target, sobel_x, padding=1)\n",
        "        target_grad_y = F.conv2d(target, sobel_y, padding=1)\n",
        "        return self.l1_loss(pred_grad_x, target_grad_x) + self.l1_loss(pred_grad_y, target_grad_y)\n",
        "\n",
        "    def forward(self, pred, target):\n",
        "        mse = self.mse_loss(pred, target)\n",
        "        ssim = self.ssim_loss(pred, target)\n",
        "        grad = self.gradient_loss(pred, target)\n",
        "        return (self.mse_weight * mse + self.ssim_weight * ssim + self.gradient_weight * grad)\n",
        "\n",
        "# --- 5. CONSISTENT TRAINING FUNCTION ---\n",
        "def train_one_model(config):\n",
        "    model_name = config['name']\n",
        "    variable_names = config['variables']\n",
        "    variable_indices = [ALL_VARIABLES.index(v) for v in variable_names]\n",
        "    num_channels = len(variable_indices)\n",
        "\n",
        "    print(\"\\n\" + \"=\"*80)\n",
        "    print(f\"🔬 STARTING ABLATION RUN: {model_name}\")\n",
        "    print(f\"   Variables ({num_channels}): {', '.join(variable_names)}\")\n",
        "    print(\"=\"*80)\n",
        "\n",
        "    device = torch.device(\"cuda\" if torch.cuda.is_available() else \"cpu\")\n",
        "\n",
        "    train_dataset = FlexibleAblationDataset(DATA_DIR, 'train', variable_indices)\n",
        "    val_dataset = FlexibleAblationDataset(DATA_DIR, 'val', variable_indices)\n",
        "    train_loader = DataLoader(train_dataset, batch_size=BATCH_SIZE, shuffle=True, num_workers=2, pin_memory=True)\n",
        "    val_loader = DataLoader(val_dataset, batch_size=BATCH_SIZE, shuffle=False, num_workers=2, pin_memory=True)\n",
        "\n",
        "    model = FlexibleAblationModel(input_channels=num_channels).to(device)\n",
        "    optimizer = torch.optim.AdamW(model.parameters(), lr=LEARNING_RATE)\n",
        "    loss_fn = AdvancedLoss() # Using the consistent, advanced loss function\n",
        "    scaler = torch.cuda.amp.GradScaler(enabled=torch.cuda.is_available())\n",
        "\n",
        "    best_val_loss = float('inf')\n",
        "    patience_counter = 0\n",
        "\n",
        "    for epoch in range(EPOCHS):\n",
        "        model.train()\n",
        "        pbar = tqdm(train_loader, desc=f\"Epoch {epoch+1}/{EPOCHS} [Train]\")\n",
        "        for predictor, target in pbar:\n",
        "            predictor, target = predictor.to(device), target.to(device)\n",
        "            optimizer.zero_grad()\n",
        "            with torch.cuda.amp.autocast(enabled=torch.cuda.is_available()):\n",
        "                prediction = model(predictor)\n",
        "                loss = loss_fn(prediction, target)\n",
        "            scaler.scale(loss).backward()\n",
        "            torch.nn.utils.clip_grad_norm_(model.parameters(), GRADIENT_CLIP)\n",
        "            scaler.step(optimizer)\n",
        "            scaler.update()\n",
        "            pbar.set_postfix({'loss': f\"{loss.item():.4f}\"})\n",
        "\n",
        "        model.eval()\n",
        "        val_loss = 0.0\n",
        "        with torch.no_grad():\n",
        "            for predictor, target in val_loader:\n",
        "                predictor, target = predictor.to(device), target.to(device)\n",
        "                prediction = model(predictor)\n",
        "                val_loss += loss_fn(prediction, target).item()\n",
        "\n",
        "        avg_val_loss = val_loss / len(val_loader)\n",
        "        print(f\"Epoch {epoch+1} | Val Loss: {avg_val_loss:.6f}\")\n",
        "\n",
        "        if avg_val_loss < best_val_loss:\n",
        "            best_val_loss = avg_val_loss\n",
        "            patience_counter = 0\n",
        "            model_path = OUTPUT_DIR / f\"ablation_{model_name}.pt\"\n",
        "            metadata_path = OUTPUT_DIR / f\"ablation_{model_name}.json\"\n",
        "            torch.save(model.state_dict(), model_path)\n",
        "            with open(metadata_path, 'w') as f:\n",
        "                json.dump(config, f, indent=2)\n",
        "            print(f\"   ✅ Best model saved to {model_path}\")\n",
        "        else:\n",
        "            patience_counter += 1\n",
        "\n",
        "        if patience_counter >= EARLY_STOPPING_PATIENCE:\n",
        "            print(f\"   🛑 Early stopping triggered.\")\n",
        "            break\n",
        "\n",
        "    print(f\"🔬 FINISHED ABLATION RUN: {model_name} | Best Val Loss: {best_val_loss:.6f}\")\n",
        "    gc.collect()\n",
        "    torch.cuda.empty_cache()\n",
        "\n",
        "# --- 6. MAIN EXECUTION SCRIPT ---\n",
        "def main():\n",
        "    for name, variables in ABLATION_CONFIGS.items():\n",
        "        config = {\"name\": name, \"variables\": variables}\n",
        "        train_one_model(config)\n",
        "\n",
        "    print(\"\\n\\n🎉🎉🎉 All ablation study models trained successfully! 🎉🎉🎉\")\n",
        "\n",
        "if __name__ == \"__main__\":\n",
        "    main()\n"
      ]
    }
  ]
}